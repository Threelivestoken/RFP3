{
 "cells": [
  {
   "cell_type": "code",
   "execution_count": 1,
   "id": "820f2545",
   "metadata": {},
   "outputs": [
    {
     "name": "stdout",
     "output_type": "stream",
     "text": [
      "Collecting gymnasium\n",
      "  Downloading gymnasium-0.29.1-py3-none-any.whl.metadata (10 kB)\n",
      "Collecting renderlab\n",
      "  Downloading renderlab-0.1.20230421184216-py3-none-any.whl.metadata (1.9 kB)\n",
      "Requirement already satisfied: numpy>=1.21.0 in c:\\users\\ethan\\anaconda3\\lib\\site-packages (from gymnasium) (1.26.4)\n",
      "Requirement already satisfied: cloudpickle>=1.2.0 in c:\\users\\ethan\\anaconda3\\lib\\site-packages (from gymnasium) (2.2.1)\n",
      "Requirement already satisfied: typing-extensions>=4.3.0 in c:\\users\\ethan\\anaconda3\\lib\\site-packages (from gymnasium) (4.9.0)\n",
      "Collecting farama-notifications>=0.0.1 (from gymnasium)\n",
      "  Downloading Farama_Notifications-0.0.4-py3-none-any.whl.metadata (558 bytes)\n",
      "Collecting moviepy (from renderlab)\n",
      "  Downloading moviepy-1.0.3.tar.gz (388 kB)\n",
      "     ---------------------------------------- 0.0/388.3 kB ? eta -:--:--\n",
      "     - -------------------------------------- 10.2/388.3 kB ? eta -:--:--\n",
      "     -- ---------------------------------- 30.7/388.3 kB 330.3 kB/s eta 0:00:02\n",
      "     -------- ---------------------------- 92.2/388.3 kB 751.6 kB/s eta 0:00:01\n",
      "     ------------------------- ------------ 256.0/388.3 kB 1.6 MB/s eta 0:00:01\n",
      "     -------------------------------------- 388.3/388.3 kB 2.0 MB/s eta 0:00:00\n",
      "  Preparing metadata (setup.py): started\n",
      "  Preparing metadata (setup.py): finished with status 'done'\n",
      "Collecting decorator<5.0,>=4.0.2 (from moviepy->renderlab)\n",
      "  Downloading decorator-4.4.2-py2.py3-none-any.whl.metadata (4.2 kB)\n",
      "Requirement already satisfied: imageio<3.0,>=2.5 in c:\\users\\ethan\\anaconda3\\lib\\site-packages (from moviepy->renderlab) (2.33.1)\n",
      "Collecting imageio_ffmpeg>=0.2.0 (from moviepy->renderlab)\n",
      "  Downloading imageio_ffmpeg-0.4.9-py3-none-win_amd64.whl.metadata (1.7 kB)\n",
      "Requirement already satisfied: tqdm<5.0,>=4.11.2 in c:\\users\\ethan\\anaconda3\\lib\\site-packages (from moviepy->renderlab) (4.65.0)\n",
      "Requirement already satisfied: requests<3.0,>=2.8.1 in c:\\users\\ethan\\anaconda3\\lib\\site-packages (from moviepy->renderlab) (2.31.0)\n",
      "Collecting proglog<=1.0.0 (from moviepy->renderlab)\n",
      "  Downloading proglog-0.1.10-py3-none-any.whl.metadata (639 bytes)\n",
      "Requirement already satisfied: pillow>=8.3.2 in c:\\users\\ethan\\anaconda3\\lib\\site-packages (from imageio<3.0,>=2.5->moviepy->renderlab) (10.2.0)\n",
      "Requirement already satisfied: setuptools in c:\\users\\ethan\\anaconda3\\lib\\site-packages (from imageio_ffmpeg>=0.2.0->moviepy->renderlab) (68.2.2)\n",
      "Requirement already satisfied: charset-normalizer<4,>=2 in c:\\users\\ethan\\anaconda3\\lib\\site-packages (from requests<3.0,>=2.8.1->moviepy->renderlab) (2.0.4)\n",
      "Requirement already satisfied: idna<4,>=2.5 in c:\\users\\ethan\\anaconda3\\lib\\site-packages (from requests<3.0,>=2.8.1->moviepy->renderlab) (3.4)\n",
      "Requirement already satisfied: urllib3<3,>=1.21.1 in c:\\users\\ethan\\anaconda3\\lib\\site-packages (from requests<3.0,>=2.8.1->moviepy->renderlab) (2.0.7)\n",
      "Requirement already satisfied: certifi>=2017.4.17 in c:\\users\\ethan\\anaconda3\\lib\\site-packages (from requests<3.0,>=2.8.1->moviepy->renderlab) (2024.2.2)\n",
      "Requirement already satisfied: colorama in c:\\users\\ethan\\anaconda3\\lib\\site-packages (from tqdm<5.0,>=4.11.2->moviepy->renderlab) (0.4.6)\n",
      "Downloading gymnasium-0.29.1-py3-none-any.whl (953 kB)\n",
      "   ---------------------------------------- 0.0/953.9 kB ? eta -:--:--\n",
      "   -------- ------------------------------- 204.8/953.9 kB 6.3 MB/s eta 0:00:01\n",
      "   -------------- ------------------------- 348.2/953.9 kB 5.5 MB/s eta 0:00:01\n",
      "   -------------- ------------------------- 348.2/953.9 kB 5.5 MB/s eta 0:00:01\n",
      "   -------------- ------------------------- 348.2/953.9 kB 5.5 MB/s eta 0:00:01\n",
      "   ---------------------- ----------------- 542.7/953.9 kB 2.4 MB/s eta 0:00:01\n",
      "   ------------------------------- -------- 747.5/953.9 kB 2.8 MB/s eta 0:00:01\n",
      "   ---------------------------------- ----- 819.2/953.9 kB 2.7 MB/s eta 0:00:01\n",
      "   ------------------------------------ --- 880.6/953.9 kB 2.5 MB/s eta 0:00:01\n",
      "   ---------------------------------------  931.8/953.9 kB 2.3 MB/s eta 0:00:01\n",
      "   ---------------------------------------- 953.9/953.9 kB 2.2 MB/s eta 0:00:00\n",
      "Downloading renderlab-0.1.20230421184216-py3-none-any.whl (4.0 kB)\n",
      "Downloading Farama_Notifications-0.0.4-py3-none-any.whl (2.5 kB)\n",
      "Downloading decorator-4.4.2-py2.py3-none-any.whl (9.2 kB)\n",
      "Downloading imageio_ffmpeg-0.4.9-py3-none-win_amd64.whl (22.6 MB)\n",
      "   ---------------------------------------- 0.0/22.6 MB ? eta -:--:--\n",
      "   ---------------------------------------- 0.1/22.6 MB 2.6 MB/s eta 0:00:09\n",
      "    --------------------------------------- 0.3/22.6 MB 4.2 MB/s eta 0:00:06\n",
      "   - -------------------------------------- 0.7/22.6 MB 5.2 MB/s eta 0:00:05\n",
      "   - -------------------------------------- 1.1/22.6 MB 6.2 MB/s eta 0:00:04\n",
      "   -- ------------------------------------- 1.5/22.6 MB 6.7 MB/s eta 0:00:04\n",
      "   --- ------------------------------------ 1.9/22.6 MB 7.1 MB/s eta 0:00:03\n",
      "   --- ------------------------------------ 2.2/22.6 MB 7.0 MB/s eta 0:00:03\n",
      "   ---- ----------------------------------- 2.5/22.6 MB 7.0 MB/s eta 0:00:03\n",
      "   ----- ---------------------------------- 2.9/22.6 MB 7.1 MB/s eta 0:00:03\n",
      "   ------ --------------------------------- 3.4/22.6 MB 7.5 MB/s eta 0:00:03\n",
      "   ------- -------------------------------- 4.0/22.6 MB 8.0 MB/s eta 0:00:03\n",
      "   -------- ------------------------------- 4.6/22.6 MB 8.4 MB/s eta 0:00:03\n",
      "   --------- ------------------------------ 5.2/22.6 MB 8.7 MB/s eta 0:00:02\n",
      "   ---------- ----------------------------- 5.8/22.6 MB 9.0 MB/s eta 0:00:02\n",
      "   ----------- ---------------------------- 6.5/22.6 MB 9.4 MB/s eta 0:00:02\n",
      "   ------------ --------------------------- 7.1/22.6 MB 9.6 MB/s eta 0:00:02\n",
      "   ------------- -------------------------- 7.8/22.6 MB 9.9 MB/s eta 0:00:02\n",
      "   --------------- ------------------------ 8.5/22.6 MB 10.3 MB/s eta 0:00:02\n",
      "   ---------------- ----------------------- 9.3/22.6 MB 10.6 MB/s eta 0:00:02\n",
      "   ----------------- ---------------------- 9.9/22.6 MB 10.9 MB/s eta 0:00:02\n",
      "   ----------------- ---------------------- 10.1/22.6 MB 10.5 MB/s eta 0:00:02\n",
      "   ------------------ --------------------- 10.5/22.6 MB 10.9 MB/s eta 0:00:02\n",
      "   ------------------ --------------------- 10.5/22.6 MB 10.9 MB/s eta 0:00:02\n",
      "   ------------------ --------------------- 10.5/22.6 MB 10.9 MB/s eta 0:00:02\n",
      "   -------------------- ------------------- 11.6/22.6 MB 10.9 MB/s eta 0:00:02\n",
      "   -------------------- ------------------- 11.8/22.6 MB 10.6 MB/s eta 0:00:02\n",
      "   --------------------- ------------------ 12.2/22.6 MB 10.7 MB/s eta 0:00:01\n",
      "   ---------------------- ----------------- 12.6/22.6 MB 10.9 MB/s eta 0:00:01\n",
      "   ----------------------- ---------------- 13.0/22.6 MB 10.9 MB/s eta 0:00:01\n",
      "   ----------------------- ---------------- 13.0/22.6 MB 10.9 MB/s eta 0:00:01\n",
      "   ----------------------- ---------------- 13.0/22.6 MB 10.9 MB/s eta 0:00:01\n",
      "   ------------------------ --------------- 14.1/22.6 MB 10.7 MB/s eta 0:00:01\n",
      "   ------------------------- -------------- 14.6/22.6 MB 10.1 MB/s eta 0:00:01\n",
      "   -------------------------- ------------- 14.9/22.6 MB 10.2 MB/s eta 0:00:01\n",
      "   -------------------------- ------------- 14.9/22.6 MB 10.2 MB/s eta 0:00:01\n",
      "   -------------------------- ------------- 14.9/22.6 MB 10.2 MB/s eta 0:00:01\n",
      "   ---------------------------- ----------- 16.1/22.6 MB 9.8 MB/s eta 0:00:01\n",
      "   ---------------------------- ----------- 16.4/22.6 MB 9.4 MB/s eta 0:00:01\n",
      "   ----------------------------- ---------- 16.8/22.6 MB 9.1 MB/s eta 0:00:01\n",
      "   ------------------------------ --------- 17.3/22.6 MB 9.2 MB/s eta 0:00:01\n",
      "   ------------------------------- -------- 17.8/22.6 MB 9.2 MB/s eta 0:00:01\n",
      "   -------------------------------- ------- 18.2/22.6 MB 9.0 MB/s eta 0:00:01\n",
      "   ---------------------------------- ----- 19.3/22.6 MB 9.1 MB/s eta 0:00:01\n",
      "   ---------------------------------- ----- 19.4/22.6 MB 9.1 MB/s eta 0:00:01\n",
      "   ---------------------------------- ----- 19.4/22.6 MB 9.1 MB/s eta 0:00:01\n",
      "   ---------------------------------- ----- 19.5/22.6 MB 8.3 MB/s eta 0:00:01\n",
      "   ------------------------------------ --- 20.7/22.6 MB 8.6 MB/s eta 0:00:01\n",
      "   ------------------------------------ --- 20.9/22.6 MB 9.4 MB/s eta 0:00:01\n",
      "   ------------------------------------- -- 21.1/22.6 MB 9.0 MB/s eta 0:00:01\n",
      "   -------------------------------------- - 21.6/22.6 MB 8.6 MB/s eta 0:00:01\n",
      "   ---------------------------------------  22.5/22.6 MB 9.4 MB/s eta 0:00:01\n",
      "   ---------------------------------------  22.6/22.6 MB 9.2 MB/s eta 0:00:01\n",
      "   ---------------------------------------- 22.6/22.6 MB 8.6 MB/s eta 0:00:00\n",
      "Downloading proglog-0.1.10-py3-none-any.whl (6.1 kB)\n",
      "Building wheels for collected packages: moviepy\n",
      "  Building wheel for moviepy (setup.py): started\n",
      "  Building wheel for moviepy (setup.py): finished with status 'done'\n",
      "  Created wheel for moviepy: filename=moviepy-1.0.3-py3-none-any.whl size=110765 sha256=8d70ae47d30749374a8d7853a8e0349f481c602b1f5888744da2c92152034594\n",
      "  Stored in directory: c:\\users\\ethan\\appdata\\local\\pip\\cache\\wheels\\83\\b1\\d9\\119ef7c144b44d591ec0a9a140465133c23ea95d2a161184ba\n",
      "Successfully built moviepy\n",
      "Installing collected packages: farama-notifications, imageio_ffmpeg, gymnasium, decorator, proglog, moviepy, renderlab\n",
      "  Attempting uninstall: decorator\n",
      "    Found existing installation: decorator 5.1.1\n",
      "    Uninstalling decorator-5.1.1:\n",
      "      Successfully uninstalled decorator-5.1.1\n",
      "Successfully installed decorator-4.4.2 farama-notifications-0.0.4 gymnasium-0.29.1 imageio_ffmpeg-0.4.9 moviepy-1.0.3 proglog-0.1.10 renderlab-0.1.20230421184216\n"
     ]
    }
   ],
   "source": [
    "!pip install gymnasium renderlab"
   ]
  },
  {
   "cell_type": "code",
   "execution_count": 2,
   "id": "dde72c16",
   "metadata": {},
   "outputs": [
    {
     "name": "stdout",
     "output_type": "stream",
     "text": [
      "Collecting opencv-python\n",
      "  Downloading opencv_python-4.9.0.80-cp37-abi3-win_amd64.whl.metadata (20 kB)\n",
      "Requirement already satisfied: numpy>=1.21.2 in c:\\users\\ethan\\anaconda3\\lib\\site-packages (from opencv-python) (1.26.4)\n",
      "Downloading opencv_python-4.9.0.80-cp37-abi3-win_amd64.whl (38.6 MB)\n",
      "   ---------------------------------------- 0.0/38.6 MB ? eta -:--:--\n",
      "   ---------------------------------------- 0.0/38.6 MB ? eta -:--:--\n",
      "   ---------------------------------------- 0.0/38.6 MB 960.0 kB/s eta 0:00:41\n",
      "   ---------------------------------------- 0.1/38.6 MB 1.4 MB/s eta 0:00:28\n",
      "   ---------------------------------------- 0.3/38.6 MB 1.9 MB/s eta 0:00:21\n",
      "   ---------------------------------------- 0.4/38.6 MB 2.0 MB/s eta 0:00:19\n",
      "    --------------------------------------- 0.5/38.6 MB 2.0 MB/s eta 0:00:19\n",
      "    --------------------------------------- 0.6/38.6 MB 2.1 MB/s eta 0:00:18\n",
      "    --------------------------------------- 0.7/38.6 MB 2.2 MB/s eta 0:00:18\n",
      "    --------------------------------------- 0.8/38.6 MB 2.1 MB/s eta 0:00:19\n",
      "    --------------------------------------- 0.9/38.6 MB 2.1 MB/s eta 0:00:19\n",
      "   - -------------------------------------- 1.0/38.6 MB 2.1 MB/s eta 0:00:19\n",
      "   - -------------------------------------- 1.1/38.6 MB 2.2 MB/s eta 0:00:17\n",
      "   - -------------------------------------- 1.2/38.6 MB 2.2 MB/s eta 0:00:18\n",
      "   - -------------------------------------- 1.4/38.6 MB 2.2 MB/s eta 0:00:17\n",
      "   - -------------------------------------- 1.4/38.6 MB 2.2 MB/s eta 0:00:17\n",
      "   - -------------------------------------- 1.5/38.6 MB 2.1 MB/s eta 0:00:18\n",
      "   - -------------------------------------- 1.6/38.6 MB 2.2 MB/s eta 0:00:18\n",
      "   - -------------------------------------- 1.7/38.6 MB 2.1 MB/s eta 0:00:18\n",
      "   - -------------------------------------- 1.8/38.6 MB 2.1 MB/s eta 0:00:18\n",
      "   - -------------------------------------- 1.9/38.6 MB 2.1 MB/s eta 0:00:18\n",
      "   -- ------------------------------------- 2.0/38.6 MB 2.2 MB/s eta 0:00:17\n",
      "   -- ------------------------------------- 2.1/38.6 MB 2.2 MB/s eta 0:00:17\n",
      "   -- ------------------------------------- 2.2/38.6 MB 2.1 MB/s eta 0:00:18\n",
      "   -- ------------------------------------- 2.3/38.6 MB 2.1 MB/s eta 0:00:18\n",
      "   -- ------------------------------------- 2.5/38.6 MB 2.2 MB/s eta 0:00:17\n",
      "   -- ------------------------------------- 2.6/38.6 MB 2.2 MB/s eta 0:00:17\n",
      "   -- ------------------------------------- 2.8/38.6 MB 2.3 MB/s eta 0:00:16\n",
      "   --- ------------------------------------ 3.0/38.6 MB 2.4 MB/s eta 0:00:15\n",
      "   --- ------------------------------------ 3.3/38.6 MB 2.5 MB/s eta 0:00:15\n",
      "   --- ------------------------------------ 3.5/38.6 MB 2.6 MB/s eta 0:00:14\n",
      "   --- ------------------------------------ 3.8/38.6 MB 2.7 MB/s eta 0:00:14\n",
      "   ---- ----------------------------------- 4.1/38.6 MB 2.8 MB/s eta 0:00:13\n",
      "   ---- ----------------------------------- 4.5/38.6 MB 3.0 MB/s eta 0:00:12\n",
      "   ---- ----------------------------------- 4.8/38.6 MB 3.1 MB/s eta 0:00:11\n",
      "   ----- ---------------------------------- 5.3/38.6 MB 3.3 MB/s eta 0:00:10\n",
      "   ----- ---------------------------------- 5.5/38.6 MB 3.4 MB/s eta 0:00:10\n",
      "   ------ --------------------------------- 5.9/38.6 MB 3.5 MB/s eta 0:00:10\n",
      "   ------ --------------------------------- 6.3/38.6 MB 3.6 MB/s eta 0:00:09\n",
      "   ------ --------------------------------- 6.6/38.6 MB 3.7 MB/s eta 0:00:09\n",
      "   ------- -------------------------------- 7.0/38.6 MB 3.9 MB/s eta 0:00:09\n",
      "   ------- -------------------------------- 7.5/38.6 MB 4.0 MB/s eta 0:00:08\n",
      "   -------- ------------------------------- 7.8/38.6 MB 4.1 MB/s eta 0:00:08\n",
      "   -------- ------------------------------- 7.9/38.6 MB 4.0 MB/s eta 0:00:08\n",
      "   -------- ------------------------------- 8.4/38.6 MB 4.2 MB/s eta 0:00:08\n",
      "   --------- ------------------------------ 8.8/38.6 MB 4.3 MB/s eta 0:00:07\n",
      "   --------- ------------------------------ 9.3/38.6 MB 4.4 MB/s eta 0:00:07\n",
      "   ---------- ----------------------------- 9.8/38.6 MB 4.6 MB/s eta 0:00:07\n",
      "   ---------- ----------------------------- 10.4/38.6 MB 5.0 MB/s eta 0:00:06\n",
      "   ---------- ----------------------------- 10.6/38.6 MB 5.0 MB/s eta 0:00:06\n",
      "   ----------- ---------------------------- 11.2/38.6 MB 5.6 MB/s eta 0:00:05\n",
      "   ------------ --------------------------- 11.8/38.6 MB 6.4 MB/s eta 0:00:05\n",
      "   ------------ --------------------------- 12.3/38.6 MB 7.1 MB/s eta 0:00:04\n",
      "   ------------- -------------------------- 12.6/38.6 MB 7.8 MB/s eta 0:00:04\n",
      "   ------------- -------------------------- 13.3/38.6 MB 8.6 MB/s eta 0:00:03\n",
      "   -------------- ------------------------- 13.8/38.6 MB 9.0 MB/s eta 0:00:03\n",
      "   -------------- ------------------------- 14.2/38.6 MB 9.0 MB/s eta 0:00:03\n",
      "   --------------- ------------------------ 14.7/38.6 MB 9.2 MB/s eta 0:00:03\n",
      "   --------------- ------------------------ 15.3/38.6 MB 9.4 MB/s eta 0:00:03\n",
      "   ---------------- ----------------------- 15.8/38.6 MB 9.6 MB/s eta 0:00:03\n",
      "   ---------------- ----------------------- 16.3/38.6 MB 9.8 MB/s eta 0:00:03\n",
      "   ----------------- ---------------------- 17.1/38.6 MB 10.2 MB/s eta 0:00:03\n",
      "   ------------------ --------------------- 17.7/38.6 MB 10.6 MB/s eta 0:00:02\n",
      "   ------------------- -------------------- 18.4/38.6 MB 11.3 MB/s eta 0:00:02\n",
      "   ------------------- -------------------- 18.8/38.6 MB 11.5 MB/s eta 0:00:02\n",
      "   ------------------- -------------------- 19.0/38.6 MB 11.1 MB/s eta 0:00:02\n",
      "   ------------------- -------------------- 19.0/38.6 MB 11.1 MB/s eta 0:00:02\n",
      "   ------------------- -------------------- 19.0/38.6 MB 10.6 MB/s eta 0:00:02\n",
      "   ------------------- -------------------- 19.2/38.6 MB 9.9 MB/s eta 0:00:02\n",
      "   -------------------- ------------------- 19.8/38.6 MB 9.9 MB/s eta 0:00:02\n",
      "   -------------------- ------------------- 20.2/38.6 MB 9.8 MB/s eta 0:00:02\n",
      "   --------------------- ------------------ 20.7/38.6 MB 9.8 MB/s eta 0:00:02\n",
      "   ---------------------- ----------------- 21.2/38.6 MB 9.8 MB/s eta 0:00:02\n",
      "   ---------------------- ----------------- 22.0/38.6 MB 9.9 MB/s eta 0:00:02\n",
      "   ----------------------- ---------------- 22.5/38.6 MB 9.9 MB/s eta 0:00:02\n",
      "   ------------------------ --------------- 23.5/38.6 MB 10.6 MB/s eta 0:00:02\n",
      "   ------------------------ --------------- 24.1/38.6 MB 10.7 MB/s eta 0:00:02\n",
      "   ------------------------- -------------- 24.9/38.6 MB 11.1 MB/s eta 0:00:02\n",
      "   -------------------------- ------------- 25.7/38.6 MB 11.1 MB/s eta 0:00:02\n",
      "   --------------------------- ------------ 26.3/38.6 MB 11.3 MB/s eta 0:00:02\n",
      "   ---------------------------- ----------- 27.0/38.6 MB 11.5 MB/s eta 0:00:02\n",
      "   ---------------------------- ----------- 27.9/38.6 MB 11.5 MB/s eta 0:00:01\n",
      "   ------------------------------ --------- 29.0/38.6 MB 11.9 MB/s eta 0:00:01\n",
      "   ------------------------------- -------- 30.0/38.6 MB 15.6 MB/s eta 0:00:01\n",
      "   -------------------------------- ------- 31.0/38.6 MB 17.7 MB/s eta 0:00:01\n",
      "   --------------------------------- ------ 32.1/38.6 MB 18.2 MB/s eta 0:00:01\n",
      "   --------------------------------- ------ 32.8/38.6 MB 18.7 MB/s eta 0:00:01\n",
      "   ---------------------------------- ----- 33.5/38.6 MB 17.7 MB/s eta 0:00:01\n",
      "   ----------------------------------- ---- 34.2/38.6 MB 18.2 MB/s eta 0:00:01\n",
      "   ------------------------------------ --- 35.3/38.6 MB 18.7 MB/s eta 0:00:01\n",
      "   ------------------------------------- -- 35.8/38.6 MB 18.2 MB/s eta 0:00:01\n",
      "   ------------------------------------- -- 36.5/38.6 MB 18.7 MB/s eta 0:00:01\n",
      "   -------------------------------------- - 37.1/38.6 MB 18.2 MB/s eta 0:00:01\n",
      "   ---------------------------------------  38.0/38.6 MB 18.2 MB/s eta 0:00:01\n",
      "   ---------------------------------------  38.3/38.6 MB 17.2 MB/s eta 0:00:01\n",
      "   ---------------------------------------  38.6/38.6 MB 17.2 MB/s eta 0:00:01\n",
      "   ---------------------------------------- 38.6/38.6 MB 16.0 MB/s eta 0:00:00\n",
      "Installing collected packages: opencv-python\n",
      "Successfully installed opencv-python-4.9.0.80\n"
     ]
    }
   ],
   "source": [
    "!pip install opencv-python\n"
   ]
  },
  {
   "cell_type": "code",
   "execution_count": 3,
   "id": "b227246a",
   "metadata": {},
   "outputs": [
    {
     "name": "stdout",
     "output_type": "stream",
     "text": [
      "Collecting pygame\n",
      "  Downloading pygame-2.5.2-cp311-cp311-win_amd64.whl.metadata (13 kB)\n",
      "Downloading pygame-2.5.2-cp311-cp311-win_amd64.whl (10.8 MB)\n",
      "   ---------------------------------------- 0.0/10.8 MB ? eta -:--:--\n",
      "   ---------------------------------------- 0.0/10.8 MB ? eta -:--:--\n",
      "   ---------------------------------------- 0.0/10.8 MB 435.7 kB/s eta 0:00:25\n",
      "   ---------------------------------------- 0.1/10.8 MB 762.6 kB/s eta 0:00:14\n",
      "    --------------------------------------- 0.2/10.8 MB 1.3 MB/s eta 0:00:09\n",
      "   - -------------------------------------- 0.3/10.8 MB 1.6 MB/s eta 0:00:07\n",
      "   - -------------------------------------- 0.5/10.8 MB 2.2 MB/s eta 0:00:05\n",
      "   -- ------------------------------------- 0.6/10.8 MB 2.3 MB/s eta 0:00:05\n",
      "   --- ------------------------------------ 1.0/10.8 MB 2.9 MB/s eta 0:00:04\n",
      "   --- ------------------------------------ 1.1/10.8 MB 3.1 MB/s eta 0:00:04\n",
      "   ---- ----------------------------------- 1.2/10.8 MB 2.9 MB/s eta 0:00:04\n",
      "   ----- ---------------------------------- 1.5/10.8 MB 3.3 MB/s eta 0:00:03\n",
      "   ------ --------------------------------- 1.7/10.8 MB 3.4 MB/s eta 0:00:03\n",
      "   ------- -------------------------------- 2.0/10.8 MB 3.7 MB/s eta 0:00:03\n",
      "   ------- -------------------------------- 2.1/10.8 MB 3.5 MB/s eta 0:00:03\n",
      "   -------- ------------------------------- 2.4/10.8 MB 3.7 MB/s eta 0:00:03\n",
      "   --------- ------------------------------ 2.4/10.8 MB 3.5 MB/s eta 0:00:03\n",
      "   ---------- ----------------------------- 2.7/10.8 MB 3.7 MB/s eta 0:00:03\n",
      "   ----------- ---------------------------- 3.0/10.8 MB 3.8 MB/s eta 0:00:03\n",
      "   ----------- ---------------------------- 3.2/10.8 MB 3.9 MB/s eta 0:00:02\n",
      "   ------------- -------------------------- 3.6/10.8 MB 4.0 MB/s eta 0:00:02\n",
      "   -------------- ------------------------- 3.9/10.8 MB 4.2 MB/s eta 0:00:02\n",
      "   --------------- ------------------------ 4.2/10.8 MB 4.3 MB/s eta 0:00:02\n",
      "   --------------- ------------------------ 4.2/10.8 MB 4.1 MB/s eta 0:00:02\n",
      "   ---------------- ----------------------- 4.5/10.8 MB 4.2 MB/s eta 0:00:02\n",
      "   ----------------- ---------------------- 4.7/10.8 MB 4.3 MB/s eta 0:00:02\n",
      "   ----------------- ---------------------- 4.7/10.8 MB 4.3 MB/s eta 0:00:02\n",
      "   ------------------ --------------------- 5.0/10.8 MB 4.2 MB/s eta 0:00:02\n",
      "   ------------------- -------------------- 5.1/10.8 MB 4.1 MB/s eta 0:00:02\n",
      "   ------------------- -------------------- 5.3/10.8 MB 4.1 MB/s eta 0:00:02\n",
      "   --------------------- ------------------ 5.7/10.8 MB 4.2 MB/s eta 0:00:02\n",
      "   --------------------- ------------------ 5.9/10.8 MB 4.2 MB/s eta 0:00:02\n",
      "   ---------------------- ----------------- 6.0/10.8 MB 4.2 MB/s eta 0:00:02\n",
      "   ----------------------- ---------------- 6.3/10.8 MB 4.3 MB/s eta 0:00:02\n",
      "   ------------------------ --------------- 6.5/10.8 MB 4.3 MB/s eta 0:00:01\n",
      "   ------------------------ --------------- 6.7/10.8 MB 4.3 MB/s eta 0:00:01\n",
      "   ------------------------- -------------- 7.0/10.8 MB 4.3 MB/s eta 0:00:01\n",
      "   -------------------------- ------------- 7.2/10.8 MB 4.3 MB/s eta 0:00:01\n",
      "   -------------------------- ------------- 7.2/10.8 MB 4.3 MB/s eta 0:00:01\n",
      "   -------------------------- ------------- 7.2/10.8 MB 4.1 MB/s eta 0:00:01\n",
      "   ---------------------------- ----------- 7.6/10.8 MB 4.2 MB/s eta 0:00:01\n",
      "   ---------------------------- ----------- 7.7/10.8 MB 4.2 MB/s eta 0:00:01\n",
      "   ---------------------------- ----------- 7.7/10.8 MB 4.2 MB/s eta 0:00:01\n",
      "   ----------------------------- ---------- 7.9/10.8 MB 4.1 MB/s eta 0:00:01\n",
      "   ------------------------------ --------- 8.3/10.8 MB 4.2 MB/s eta 0:00:01\n",
      "   ------------------------------- -------- 8.6/10.8 MB 4.2 MB/s eta 0:00:01\n",
      "   --------------------------------- ------ 9.0/10.8 MB 4.3 MB/s eta 0:00:01\n",
      "   ----------------------------------- ---- 9.6/10.8 MB 4.5 MB/s eta 0:00:01\n",
      "   ------------------------------------- -- 10.0/10.8 MB 4.6 MB/s eta 0:00:01\n",
      "   ---------------------------------------  10.6/10.8 MB 5.1 MB/s eta 0:00:01\n",
      "   ---------------------------------------- 10.8/10.8 MB 5.0 MB/s eta 0:00:00\n",
      "Installing collected packages: pygame\n",
      "Successfully installed pygame-2.5.2\n"
     ]
    }
   ],
   "source": [
    "!pip install pygame"
   ]
  },
  {
   "cell_type": "code",
   "execution_count": 4,
   "id": "34153804",
   "metadata": {},
   "outputs": [],
   "source": [
    "import gymnasium as gym"
   ]
  },
  {
   "cell_type": "code",
   "execution_count": 8,
   "id": "b4869648",
   "metadata": {},
   "outputs": [],
   "source": [
    "desc=[\"SFFF\", \"FHHH\", \"FFFF\", \"HFHF\", \"FFGF\"]\n",
    "\n",
    "env = gym.make('FrozenLake-v1', desc=desc, map_name=\"5x5\", is_slippery=False, render_mode=\"human\") \n",
    "observation, info = env.reset()"
   ]
  },
  {
   "cell_type": "code",
   "execution_count": 6,
   "id": "cd02e740",
   "metadata": {},
   "outputs": [],
   "source": [
    "env.close()"
   ]
  },
  {
   "cell_type": "code",
   "execution_count": 20,
   "id": "9970c41a",
   "metadata": {},
   "outputs": [
    {
     "data": {
      "text/plain": [
       "(0, {'prob': 1})"
      ]
     },
     "execution_count": 20,
     "metadata": {},
     "output_type": "execute_result"
    }
   ],
   "source": [
    "#reset whole thing\n",
    "env.reset()\n",
    "#env.step(0)#Left\n",
    "#env.step(1)#Down\n",
    "#env.step(2)#Right\n",
    "#env.step(3)#Up"
   ]
  },
  {
   "cell_type": "code",
   "execution_count": 30,
   "id": "9b18b4d1",
   "metadata": {},
   "outputs": [
    {
     "data": {
      "text/plain": [
       "(0, 0.0, False, False, {'prob': 1.0})"
      ]
     },
     "execution_count": 30,
     "metadata": {},
     "output_type": "execute_result"
    }
   ],
   "source": [
    "def"
   ]
  },
  {
   "cell_type": "code",
   "execution_count": 10,
   "id": "a693356c",
   "metadata": {},
   "outputs": [
    {
     "data": {
      "text/plain": [
       "(0, {'prob': 1})"
      ]
     },
     "execution_count": 10,
     "metadata": {},
     "output_type": "execute_result"
    }
   ],
   "source": []
  },
  {
   "cell_type": "code",
   "execution_count": 21,
   "id": "87c1b6e9-ab4f-486a-bf2d-30a5196bef54",
   "metadata": {},
   "outputs": [],
   "source": [
    "def movelol(inputmove):\n",
    "    if inputmove==\"W\":\n",
    "        env.step(3)\n",
    "    if inputmove==\"A\":\n",
    "        env.step(0)\n",
    "    if inputmove==\"S\":\n",
    "        env.step(1)\n",
    "    if inputmove==\"D\":\n",
    "        env.step(2)\n",
    "    if inputmove==\"R\":\n",
    "        env.reset()\n",
    "    if inputmove==\"C\":\n",
    "        sys.exit()\n",
    "    if inputmove==\"O\":\n",
    "        env = gym.make('FrozenLake-v1', desc=desc, map_name=\"5x5\", is_slippery=False, render_mode=\"human\") \n",
    "        observation, info = env.reset()"
   ]
  },
  {
   "cell_type": "code",
   "execution_count": 22,
   "id": "2513dc1a",
   "metadata": {},
   "outputs": [
    {
     "name": "stdin",
     "output_type": "stream",
     "text": [
      "Move:  A\n"
     ]
    },
    {
     "ename": "UnboundLocalError",
     "evalue": "cannot access local variable 'env' where it is not associated with a value",
     "output_type": "error",
     "traceback": [
      "\u001b[1;31m---------------------------------------------------------------------------\u001b[0m",
      "\u001b[1;31mUnboundLocalError\u001b[0m                         Traceback (most recent call last)",
      "Cell \u001b[1;32mIn[22], line 3\u001b[0m\n\u001b[0;32m      1\u001b[0m \u001b[38;5;28;01mfor\u001b[39;00m taco \u001b[38;5;129;01min\u001b[39;00m \u001b[38;5;28mrange\u001b[39m(\u001b[38;5;241m100\u001b[39m):\n\u001b[0;32m      2\u001b[0m     m\u001b[38;5;241m=\u001b[39m\u001b[38;5;28minput\u001b[39m(\u001b[38;5;124m\"\u001b[39m\u001b[38;5;124mMove: \u001b[39m\u001b[38;5;124m\"\u001b[39m)\n\u001b[1;32m----> 3\u001b[0m     movelol(m)\n",
      "Cell \u001b[1;32mIn[21], line 5\u001b[0m, in \u001b[0;36mmovelol\u001b[1;34m(inputmove)\u001b[0m\n\u001b[0;32m      3\u001b[0m     env\u001b[38;5;241m.\u001b[39mstep(\u001b[38;5;241m3\u001b[39m)\n\u001b[0;32m      4\u001b[0m \u001b[38;5;28;01mif\u001b[39;00m inputmove\u001b[38;5;241m==\u001b[39m\u001b[38;5;124m\"\u001b[39m\u001b[38;5;124mA\u001b[39m\u001b[38;5;124m\"\u001b[39m:\n\u001b[1;32m----> 5\u001b[0m     env\u001b[38;5;241m.\u001b[39mstep(\u001b[38;5;241m0\u001b[39m)\n\u001b[0;32m      6\u001b[0m \u001b[38;5;28;01mif\u001b[39;00m inputmove\u001b[38;5;241m==\u001b[39m\u001b[38;5;124m\"\u001b[39m\u001b[38;5;124mS\u001b[39m\u001b[38;5;124m\"\u001b[39m:\n\u001b[0;32m      7\u001b[0m     env\u001b[38;5;241m.\u001b[39mstep(\u001b[38;5;241m1\u001b[39m)\n",
      "\u001b[1;31mUnboundLocalError\u001b[0m: cannot access local variable 'env' where it is not associated with a value"
     ]
    }
   ],
   "source": [
    "for taco in range(100):\n",
    "    m=input(\"Move: \")\n",
    "    movelol(m)"
   ]
  },
  {
   "cell_type": "code",
   "execution_count": 29,
   "id": "e5e7f4ec-f94c-4167-ac9e-ae5f918ff7b9",
   "metadata": {},
   "outputs": [
    {
     "name": "stdin",
     "output_type": "stream",
     "text": [
      "Move:  C\n"
     ]
    },
    {
     "name": "stderr",
     "output_type": "stream",
     "text": [
      "C:\\Users\\ethan\\anaconda3\\Lib\\site-packages\\gymnasium\\core.py:311: UserWarning: \u001b[33mWARN: env.exit to get variables from other wrappers is deprecated and will be removed in v1.0, to get this variable you can do `env.unwrapped.exit` for environment variables or `env.get_wrapper_attr('exit')` that will search the reminding wrappers.\u001b[0m\n",
      "  logger.warn(\n"
     ]
    },
    {
     "ename": "AttributeError",
     "evalue": "'FrozenLakeEnv' object has no attribute 'exit'",
     "output_type": "error",
     "traceback": [
      "\u001b[1;31m---------------------------------------------------------------------------\u001b[0m",
      "\u001b[1;31mAttributeError\u001b[0m                            Traceback (most recent call last)",
      "Cell \u001b[1;32mIn[29], line 26\u001b[0m\n\u001b[0;32m     24\u001b[0m     env\u001b[38;5;241m.\u001b[39mreset()\n\u001b[0;32m     25\u001b[0m \u001b[38;5;28;01mif\u001b[39;00m inputmove\u001b[38;5;241m==\u001b[39m\u001b[38;5;124m\"\u001b[39m\u001b[38;5;124mC\u001b[39m\u001b[38;5;124m\"\u001b[39m:\n\u001b[1;32m---> 26\u001b[0m     env\u001b[38;5;241m.\u001b[39mexit()\n\u001b[0;32m     27\u001b[0m \u001b[38;5;28;01mif\u001b[39;00m inputmove\u001b[38;5;241m==\u001b[39m\u001b[38;5;124m\"\u001b[39m\u001b[38;5;124mO\u001b[39m\u001b[38;5;124m\"\u001b[39m:\n\u001b[0;32m     28\u001b[0m     env \u001b[38;5;241m=\u001b[39m gym\u001b[38;5;241m.\u001b[39mmake(\u001b[38;5;124m'\u001b[39m\u001b[38;5;124mFrozenLake-v1\u001b[39m\u001b[38;5;124m'\u001b[39m, desc\u001b[38;5;241m=\u001b[39mdesc, map_name\u001b[38;5;241m=\u001b[39m\u001b[38;5;124m\"\u001b[39m\u001b[38;5;124m5x5\u001b[39m\u001b[38;5;124m\"\u001b[39m, is_slippery\u001b[38;5;241m=\u001b[39m\u001b[38;5;28;01mFalse\u001b[39;00m, render_mode\u001b[38;5;241m=\u001b[39m\u001b[38;5;124m\"\u001b[39m\u001b[38;5;124mhuman\u001b[39m\u001b[38;5;124m\"\u001b[39m) \n",
      "File \u001b[1;32m~\\anaconda3\\Lib\\site-packages\\gymnasium\\core.py:315\u001b[0m, in \u001b[0;36mWrapper.__getattr__\u001b[1;34m(self, name)\u001b[0m\n\u001b[0;32m    310\u001b[0m     \u001b[38;5;28;01mraise\u001b[39;00m \u001b[38;5;167;01mAttributeError\u001b[39;00m(\u001b[38;5;124mf\u001b[39m\u001b[38;5;124m\"\u001b[39m\u001b[38;5;124maccessing private attribute \u001b[39m\u001b[38;5;124m'\u001b[39m\u001b[38;5;132;01m{\u001b[39;00mname\u001b[38;5;132;01m}\u001b[39;00m\u001b[38;5;124m'\u001b[39m\u001b[38;5;124m is prohibited\u001b[39m\u001b[38;5;124m\"\u001b[39m)\n\u001b[0;32m    311\u001b[0m logger\u001b[38;5;241m.\u001b[39mwarn(\n\u001b[0;32m    312\u001b[0m     \u001b[38;5;124mf\u001b[39m\u001b[38;5;124m\"\u001b[39m\u001b[38;5;124menv.\u001b[39m\u001b[38;5;132;01m{\u001b[39;00mname\u001b[38;5;132;01m}\u001b[39;00m\u001b[38;5;124m to get variables from other wrappers is deprecated and will be removed in v1.0, \u001b[39m\u001b[38;5;124m\"\u001b[39m\n\u001b[0;32m    313\u001b[0m     \u001b[38;5;124mf\u001b[39m\u001b[38;5;124m\"\u001b[39m\u001b[38;5;124mto get this variable you can do `env.unwrapped.\u001b[39m\u001b[38;5;132;01m{\u001b[39;00mname\u001b[38;5;132;01m}\u001b[39;00m\u001b[38;5;124m` for environment variables or `env.get_wrapper_attr(\u001b[39m\u001b[38;5;124m'\u001b[39m\u001b[38;5;132;01m{\u001b[39;00mname\u001b[38;5;132;01m}\u001b[39;00m\u001b[38;5;124m'\u001b[39m\u001b[38;5;124m)` that will search the reminding wrappers.\u001b[39m\u001b[38;5;124m\"\u001b[39m\n\u001b[0;32m    314\u001b[0m )\n\u001b[1;32m--> 315\u001b[0m \u001b[38;5;28;01mreturn\u001b[39;00m \u001b[38;5;28mgetattr\u001b[39m(\u001b[38;5;28mself\u001b[39m\u001b[38;5;241m.\u001b[39menv, name)\n",
      "File \u001b[1;32m~\\anaconda3\\Lib\\site-packages\\gymnasium\\core.py:315\u001b[0m, in \u001b[0;36mWrapper.__getattr__\u001b[1;34m(self, name)\u001b[0m\n\u001b[0;32m    310\u001b[0m     \u001b[38;5;28;01mraise\u001b[39;00m \u001b[38;5;167;01mAttributeError\u001b[39;00m(\u001b[38;5;124mf\u001b[39m\u001b[38;5;124m\"\u001b[39m\u001b[38;5;124maccessing private attribute \u001b[39m\u001b[38;5;124m'\u001b[39m\u001b[38;5;132;01m{\u001b[39;00mname\u001b[38;5;132;01m}\u001b[39;00m\u001b[38;5;124m'\u001b[39m\u001b[38;5;124m is prohibited\u001b[39m\u001b[38;5;124m\"\u001b[39m)\n\u001b[0;32m    311\u001b[0m logger\u001b[38;5;241m.\u001b[39mwarn(\n\u001b[0;32m    312\u001b[0m     \u001b[38;5;124mf\u001b[39m\u001b[38;5;124m\"\u001b[39m\u001b[38;5;124menv.\u001b[39m\u001b[38;5;132;01m{\u001b[39;00mname\u001b[38;5;132;01m}\u001b[39;00m\u001b[38;5;124m to get variables from other wrappers is deprecated and will be removed in v1.0, \u001b[39m\u001b[38;5;124m\"\u001b[39m\n\u001b[0;32m    313\u001b[0m     \u001b[38;5;124mf\u001b[39m\u001b[38;5;124m\"\u001b[39m\u001b[38;5;124mto get this variable you can do `env.unwrapped.\u001b[39m\u001b[38;5;132;01m{\u001b[39;00mname\u001b[38;5;132;01m}\u001b[39;00m\u001b[38;5;124m` for environment variables or `env.get_wrapper_attr(\u001b[39m\u001b[38;5;124m'\u001b[39m\u001b[38;5;132;01m{\u001b[39;00mname\u001b[38;5;132;01m}\u001b[39;00m\u001b[38;5;124m'\u001b[39m\u001b[38;5;124m)` that will search the reminding wrappers.\u001b[39m\u001b[38;5;124m\"\u001b[39m\n\u001b[0;32m    314\u001b[0m )\n\u001b[1;32m--> 315\u001b[0m \u001b[38;5;28;01mreturn\u001b[39;00m \u001b[38;5;28mgetattr\u001b[39m(\u001b[38;5;28mself\u001b[39m\u001b[38;5;241m.\u001b[39menv, name)\n",
      "File \u001b[1;32m~\\anaconda3\\Lib\\site-packages\\gymnasium\\core.py:315\u001b[0m, in \u001b[0;36mWrapper.__getattr__\u001b[1;34m(self, name)\u001b[0m\n\u001b[0;32m    310\u001b[0m     \u001b[38;5;28;01mraise\u001b[39;00m \u001b[38;5;167;01mAttributeError\u001b[39;00m(\u001b[38;5;124mf\u001b[39m\u001b[38;5;124m\"\u001b[39m\u001b[38;5;124maccessing private attribute \u001b[39m\u001b[38;5;124m'\u001b[39m\u001b[38;5;132;01m{\u001b[39;00mname\u001b[38;5;132;01m}\u001b[39;00m\u001b[38;5;124m'\u001b[39m\u001b[38;5;124m is prohibited\u001b[39m\u001b[38;5;124m\"\u001b[39m)\n\u001b[0;32m    311\u001b[0m logger\u001b[38;5;241m.\u001b[39mwarn(\n\u001b[0;32m    312\u001b[0m     \u001b[38;5;124mf\u001b[39m\u001b[38;5;124m\"\u001b[39m\u001b[38;5;124menv.\u001b[39m\u001b[38;5;132;01m{\u001b[39;00mname\u001b[38;5;132;01m}\u001b[39;00m\u001b[38;5;124m to get variables from other wrappers is deprecated and will be removed in v1.0, \u001b[39m\u001b[38;5;124m\"\u001b[39m\n\u001b[0;32m    313\u001b[0m     \u001b[38;5;124mf\u001b[39m\u001b[38;5;124m\"\u001b[39m\u001b[38;5;124mto get this variable you can do `env.unwrapped.\u001b[39m\u001b[38;5;132;01m{\u001b[39;00mname\u001b[38;5;132;01m}\u001b[39;00m\u001b[38;5;124m` for environment variables or `env.get_wrapper_attr(\u001b[39m\u001b[38;5;124m'\u001b[39m\u001b[38;5;132;01m{\u001b[39;00mname\u001b[38;5;132;01m}\u001b[39;00m\u001b[38;5;124m'\u001b[39m\u001b[38;5;124m)` that will search the reminding wrappers.\u001b[39m\u001b[38;5;124m\"\u001b[39m\n\u001b[0;32m    314\u001b[0m )\n\u001b[1;32m--> 315\u001b[0m \u001b[38;5;28;01mreturn\u001b[39;00m \u001b[38;5;28mgetattr\u001b[39m(\u001b[38;5;28mself\u001b[39m\u001b[38;5;241m.\u001b[39menv, name)\n",
      "\u001b[1;31mAttributeError\u001b[0m: 'FrozenLakeEnv' object has no attribute 'exit'"
     ]
    }
   ],
   "source": [
    "inputmove=\"1\"\n",
    "env.reset()\n",
    "for taco in range(1000):\n",
    "    if inputmove == \"1\":\n",
    "        inputmove=str(input(\"Move: \"))\n",
    "        if inputmove==\"W\":\n",
    "            env.step(3)\n",
    "        if inputmove==\"A\":\n",
    "            env.step(0)\n",
    "        if inputmove==\"S\":\n",
    "            env.step(1)\n",
    "        if inputmove==\"D\":env.step(2)\n",
    "        \n",
    "        if inputmove==\"w\":\n",
    "            env.step(3)\n",
    "        if inputmove==\"a\":\n",
    "            env.step(0)\n",
    "        if inputmove==\"s\":\n",
    "            env.step(1)\n",
    "        if inputmove==\"d\":\n",
    "            env.step(2)\n",
    "        \n",
    "        if inputmove==\"R\":\n",
    "            env.reset()\n",
    "        if inputmove==\"C\":\n",
    "            env.exit()\n",
    "        if inputmove==\"O\":\n",
    "            env = gym.make('FrozenLake-v1', desc=desc, map_name=\"5x5\", is_slippery=False, render_mode=\"human\") \n",
    "            observation, info = env.reset()\n",
    "    if inputmove==\"0\":\n",
    "        inputemove=\"0\"\n",
    "    else:\n",
    "        inputmove=\"1\""
   ]
  },
  {
   "cell_type": "code",
   "execution_count": null,
   "id": "dc76ae5d-80b2-4306-8884-4266f320acaf",
   "metadata": {},
   "outputs": [],
   "source": []
  }
 ],
 "metadata": {
  "kernelspec": {
   "display_name": "Python 3 (ipykernel)",
   "language": "python",
   "name": "python3"
  },
  "language_info": {
   "codemirror_mode": {
    "name": "ipython",
    "version": 3
   },
   "file_extension": ".py",
   "mimetype": "text/x-python",
   "name": "python",
   "nbconvert_exporter": "python",
   "pygments_lexer": "ipython3",
   "version": "3.11.7"
  }
 },
 "nbformat": 4,
 "nbformat_minor": 5
}
