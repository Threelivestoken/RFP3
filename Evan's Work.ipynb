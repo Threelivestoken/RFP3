{
 "cells": [
  {
   "cell_type": "code",
   "execution_count": null,
   "id": "80962048",
   "metadata": {},
   "outputs": [],
   "source": [
    "import numpy as np\n",
    "import gymnasium as gym\n",
    "\n",
    "# Your custom environment setup\n",
    "desc = [\"SFFF\", \"FHHH\", \"FFFF\", \"HFHF\", \"FFGF\"]\n",
    "env = gym.make('FrozenLake-v1', desc=desc, map_name=\"5x5\", is_slippery=False, render_mode=\"human\")\n",
    "\n",
    "# Initialize Q-table with zeros\n",
    "Q = np.zeros([env.observation_space.n, env.action_space.n])\n",
    "\n",
    "# Hyperparameters\n",
    "# Adjust hyperparameters\n",
    "# Learning parameters\n",
    "# Assuming these variables are defined somewhere in your code:\n",
    "alpha = 0.1  # Learning rate\n",
    "gamma = 0.99  # Discount factor\n",
    "epsilon = 1  # Initial exploration rate\n",
    "epsilon_min = 0.2\n",
    "epsilon_decay = 0.9997\n",
    "learning_episodes = 10000\n",
    "\n",
    "# Penalty values\n",
    "step_penalty = -0.0001\n",
    "no_progress_penalty = -0.01\n",
    "falling_into_lake_penalty = -4  # Significant penalty for falling into a lake\n",
    "\n",
    "# Initialize Q-table\n",
    "Q = np.random.uniform(low=-0.01, high=0.01, size=(env.observation_space.n, env.action_space.n))\n",
    "\n",
    "for episode in range(1, learning_episodes + 1):\n",
    "    state, _ = env.reset()\n",
    "    done = False\n",
    "    total_reward = 0\n",
    "\n",
    "    while not done:\n",
    "        if np.random.rand() < epsilon:\n",
    "            action = env.action_space.sample()  # Explore\n",
    "        else:\n",
    "            action = np.argmax(Q[state])  # Exploit\n",
    "\n",
    "        next_state, reward, done, _, _ = env.step(action)\n",
    "\n",
    "        # Proceed with the rest of your loop...\n",
    "\n",
    "    # Epsilon decay\n",
    "    epsilon = max(epsilon_min, epsilon * epsilon_decay)\n",
    "\n",
    "    if episode % 100 == 0:\n",
    "        print(f\"Episode: {episode}, Epsilon: {epsilon:.4f}, Total Reward: {total_reward}\")\n",
    "\n",
    "print(\"Training finished.\")   "
   ]
  },
  {
   "cell_type": "code",
   "execution_count": null,
   "id": "8550bd03",
   "metadata": {},
   "outputs": [],
   "source": []
  }
 ],
 "metadata": {
  "kernelspec": {
   "display_name": "Python 3 (ipykernel)",
   "language": "python",
   "name": "python3"
  },
  "language_info": {
   "codemirror_mode": {
    "name": "ipython",
    "version": 3
   },
   "file_extension": ".py",
   "mimetype": "text/x-python",
   "name": "python",
   "nbconvert_exporter": "python",
   "pygments_lexer": "ipython3",
   "version": "3.9.13"
  }
 },
 "nbformat": 4,
 "nbformat_minor": 5
}
