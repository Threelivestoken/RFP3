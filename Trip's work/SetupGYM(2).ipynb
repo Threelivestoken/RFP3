{
 "cells": [
  {
   "cell_type": "code",
   "execution_count": null,
   "id": "820f2545",
   "metadata": {},
   "outputs": [],
   "source": [
    "!pip install gymnasium renderlab"
   ]
  },
  {
   "cell_type": "code",
   "execution_count": null,
   "id": "dde72c16",
   "metadata": {},
   "outputs": [],
   "source": [
    "!pip install opencv-python\n"
   ]
  },
  {
   "cell_type": "code",
   "execution_count": null,
   "id": "b227246a",
   "metadata": {},
   "outputs": [],
   "source": [
    "!pip install pygame"
   ]
  },
  {
   "cell_type": "code",
   "execution_count": 23,
   "id": "571967d4-7254-43d3-8140-6cd3e3009626",
   "metadata": {},
   "outputs": [],
   "source": [
    "#1\n",
    "import gymnasium as gym\n",
    "import random\n",
    "\n",
    "#2\n",
    "desc=[\"SFFF\", \"FHHH\", \"FFFF\", \"HFHF\", \"FFGF\"]\n",
    "\n",
    "env = gym.make('FrozenLake-v1', desc=desc, map_name=\"4x5\", is_slippery=False, render_mode=\"human\") \n",
    "observation, info = env.reset()\n",
    "\n",
    "\n",
    "\n",
    "\n",
    "\n",
    "#run info\n",
    "stats={\"run\":[],\"end\":[],\"steps\":[]}\n",
    "\n",
    "\n",
    "\n",
    "\n",
    "run=0\n",
    "#for burrito\n",
    "#3, Initialize function\n",
    "def initialize_Q_table(spaces):\n",
    "    spaces=20 #number of spaces, dont change!\n",
    "    Q_table={\n",
    "        \"info\":[\"left\",\"down\",\"right\",\"up\"],\n",
    "        \"0\":[],#[0,0,0,0,0,0,0,0,0,0,0,0,0,0,0,0,0,0,0,0],#left\n",
    "        \"1\":[],#[1,0,0,0,1,0,0,0,0,1,0,0,0,1,0,0,0,0,0,0],#down\n",
    "        \"2\":[],#[0,0,0,0,0,0,0,0,1,0,0,0,0,0,0,0,0,1,0,0],#right\n",
    "        \"3\":[]}#[0,0,0,0,0,0,0,0,0,0,0,0,0,0,0,0,0,0,0,0]}#up\n",
    "    for taco in range(spaces):\n",
    "        Q_table[\"0\"].append(0)#random.uniform(0, 1)\n",
    "        Q_table[\"1\"].append(0)\n",
    "        Q_table[\"2\"].append(0)\n",
    "        Q_table[\"3\"].append(0)\n",
    "    return Q_table\n",
    "#use the function to create the table\n",
    "Q_table=initialize_Q_table(20)\n",
    "#Make Q function to get Q\n",
    "#def Q(Space,Move):\n",
    "#    Q_table[str(Move)][Space]\n",
    "#4, list of bad squares\n",
    "bs=[5,6,7,12,14]\n",
    "gs=[18]\n",
    "tempreward=[13]#[4,8,9,13,17]\n",
    "#\n",
    "#l=[0,4,8,12,16]\n",
    "#r=[3,7,11,15,19]\n",
    "#u=[0,1,2,3]\n",
    "#d=[16,17,18,19]"
   ]
  },
  {
   "cell_type": "code",
   "execution_count": 28,
   "id": "34153804",
   "metadata": {},
   "outputs": [
    {
     "ename": "KeyboardInterrupt",
     "evalue": "",
     "output_type": "error",
     "traceback": [
      "\u001b[1;31m---------------------------------------------------------------------------\u001b[0m",
      "\u001b[1;31mKeyboardInterrupt\u001b[0m                         Traceback (most recent call last)",
      "Cell \u001b[1;32mIn[28], line 61\u001b[0m\n\u001b[0;32m     59\u001b[0m \u001b[38;5;28;01melif\u001b[39;00m maxq\u001b[38;5;241m==\u001b[39mQ_table[\u001b[38;5;124m\"\u001b[39m\u001b[38;5;124m1\u001b[39m\u001b[38;5;124m\"\u001b[39m][current_State]:\n\u001b[0;32m     60\u001b[0m     step\u001b[38;5;241m=\u001b[39m\u001b[38;5;124m\"\u001b[39m\u001b[38;5;124m1\u001b[39m\u001b[38;5;124m\"\u001b[39m\n\u001b[1;32m---> 61\u001b[0m     next_State\u001b[38;5;241m=\u001b[39menv\u001b[38;5;241m.\u001b[39mstep(\u001b[38;5;241m1\u001b[39m)[\u001b[38;5;241m0\u001b[39m]\n\u001b[0;32m     62\u001b[0m \u001b[38;5;28;01melif\u001b[39;00m maxq\u001b[38;5;241m==\u001b[39mQ_table[\u001b[38;5;124m\"\u001b[39m\u001b[38;5;124m2\u001b[39m\u001b[38;5;124m\"\u001b[39m][current_State]:\n\u001b[0;32m     63\u001b[0m     step\u001b[38;5;241m=\u001b[39m\u001b[38;5;124m\"\u001b[39m\u001b[38;5;124m2\u001b[39m\u001b[38;5;124m\"\u001b[39m\n",
      "File \u001b[1;32m~\\anaconda3\\Lib\\site-packages\\gymnasium\\wrappers\\time_limit.py:57\u001b[0m, in \u001b[0;36mTimeLimit.step\u001b[1;34m(self, action)\u001b[0m\n\u001b[0;32m     46\u001b[0m \u001b[38;5;28;01mdef\u001b[39;00m \u001b[38;5;21mstep\u001b[39m(\u001b[38;5;28mself\u001b[39m, action):\n\u001b[0;32m     47\u001b[0m \u001b[38;5;250m    \u001b[39m\u001b[38;5;124;03m\"\"\"Steps through the environment and if the number of steps elapsed exceeds ``max_episode_steps`` then truncate.\u001b[39;00m\n\u001b[0;32m     48\u001b[0m \n\u001b[0;32m     49\u001b[0m \u001b[38;5;124;03m    Args:\u001b[39;00m\n\u001b[1;32m   (...)\u001b[0m\n\u001b[0;32m     55\u001b[0m \n\u001b[0;32m     56\u001b[0m \u001b[38;5;124;03m    \"\"\"\u001b[39;00m\n\u001b[1;32m---> 57\u001b[0m     observation, reward, terminated, truncated, info \u001b[38;5;241m=\u001b[39m \u001b[38;5;28mself\u001b[39m\u001b[38;5;241m.\u001b[39menv\u001b[38;5;241m.\u001b[39mstep(action)\n\u001b[0;32m     58\u001b[0m     \u001b[38;5;28mself\u001b[39m\u001b[38;5;241m.\u001b[39m_elapsed_steps \u001b[38;5;241m+\u001b[39m\u001b[38;5;241m=\u001b[39m \u001b[38;5;241m1\u001b[39m\n\u001b[0;32m     60\u001b[0m     \u001b[38;5;28;01mif\u001b[39;00m \u001b[38;5;28mself\u001b[39m\u001b[38;5;241m.\u001b[39m_elapsed_steps \u001b[38;5;241m>\u001b[39m\u001b[38;5;241m=\u001b[39m \u001b[38;5;28mself\u001b[39m\u001b[38;5;241m.\u001b[39m_max_episode_steps:\n",
      "File \u001b[1;32m~\\anaconda3\\Lib\\site-packages\\gymnasium\\wrappers\\order_enforcing.py:56\u001b[0m, in \u001b[0;36mOrderEnforcing.step\u001b[1;34m(self, action)\u001b[0m\n\u001b[0;32m     54\u001b[0m \u001b[38;5;28;01mif\u001b[39;00m \u001b[38;5;129;01mnot\u001b[39;00m \u001b[38;5;28mself\u001b[39m\u001b[38;5;241m.\u001b[39m_has_reset:\n\u001b[0;32m     55\u001b[0m     \u001b[38;5;28;01mraise\u001b[39;00m ResetNeeded(\u001b[38;5;124m\"\u001b[39m\u001b[38;5;124mCannot call env.step() before calling env.reset()\u001b[39m\u001b[38;5;124m\"\u001b[39m)\n\u001b[1;32m---> 56\u001b[0m \u001b[38;5;28;01mreturn\u001b[39;00m \u001b[38;5;28mself\u001b[39m\u001b[38;5;241m.\u001b[39menv\u001b[38;5;241m.\u001b[39mstep(action)\n",
      "File \u001b[1;32m~\\anaconda3\\Lib\\site-packages\\gymnasium\\wrappers\\env_checker.py:51\u001b[0m, in \u001b[0;36mPassiveEnvChecker.step\u001b[1;34m(self, action)\u001b[0m\n\u001b[0;32m     49\u001b[0m     \u001b[38;5;28;01mreturn\u001b[39;00m env_step_passive_checker(\u001b[38;5;28mself\u001b[39m\u001b[38;5;241m.\u001b[39menv, action)\n\u001b[0;32m     50\u001b[0m \u001b[38;5;28;01melse\u001b[39;00m:\n\u001b[1;32m---> 51\u001b[0m     \u001b[38;5;28;01mreturn\u001b[39;00m \u001b[38;5;28mself\u001b[39m\u001b[38;5;241m.\u001b[39menv\u001b[38;5;241m.\u001b[39mstep(action)\n",
      "File \u001b[1;32m~\\anaconda3\\Lib\\site-packages\\gymnasium\\envs\\toy_text\\frozen_lake.py:308\u001b[0m, in \u001b[0;36mFrozenLakeEnv.step\u001b[1;34m(self, a)\u001b[0m\n\u001b[0;32m    305\u001b[0m \u001b[38;5;28mself\u001b[39m\u001b[38;5;241m.\u001b[39mlastaction \u001b[38;5;241m=\u001b[39m a\n\u001b[0;32m    307\u001b[0m \u001b[38;5;28;01mif\u001b[39;00m \u001b[38;5;28mself\u001b[39m\u001b[38;5;241m.\u001b[39mrender_mode \u001b[38;5;241m==\u001b[39m \u001b[38;5;124m\"\u001b[39m\u001b[38;5;124mhuman\u001b[39m\u001b[38;5;124m\"\u001b[39m:\n\u001b[1;32m--> 308\u001b[0m     \u001b[38;5;28mself\u001b[39m\u001b[38;5;241m.\u001b[39mrender()\n\u001b[0;32m    309\u001b[0m \u001b[38;5;28;01mreturn\u001b[39;00m (\u001b[38;5;28mint\u001b[39m(s), r, t, \u001b[38;5;28;01mFalse\u001b[39;00m, {\u001b[38;5;124m\"\u001b[39m\u001b[38;5;124mprob\u001b[39m\u001b[38;5;124m\"\u001b[39m: p})\n",
      "File \u001b[1;32m~\\anaconda3\\Lib\\site-packages\\gymnasium\\envs\\toy_text\\frozen_lake.py:338\u001b[0m, in \u001b[0;36mFrozenLakeEnv.render\u001b[1;34m(self)\u001b[0m\n\u001b[0;32m    336\u001b[0m     \u001b[38;5;28;01mreturn\u001b[39;00m \u001b[38;5;28mself\u001b[39m\u001b[38;5;241m.\u001b[39m_render_text()\n\u001b[0;32m    337\u001b[0m \u001b[38;5;28;01melse\u001b[39;00m:  \u001b[38;5;66;03m# self.render_mode in {\"human\", \"rgb_array\"}:\u001b[39;00m\n\u001b[1;32m--> 338\u001b[0m     \u001b[38;5;28;01mreturn\u001b[39;00m \u001b[38;5;28mself\u001b[39m\u001b[38;5;241m.\u001b[39m_render_gui(\u001b[38;5;28mself\u001b[39m\u001b[38;5;241m.\u001b[39mrender_mode)\n",
      "File \u001b[1;32m~\\anaconda3\\Lib\\site-packages\\gymnasium\\envs\\toy_text\\frozen_lake.py:432\u001b[0m, in \u001b[0;36mFrozenLakeEnv._render_gui\u001b[1;34m(self, mode)\u001b[0m\n\u001b[0;32m    430\u001b[0m     pygame\u001b[38;5;241m.\u001b[39mevent\u001b[38;5;241m.\u001b[39mpump()\n\u001b[0;32m    431\u001b[0m     pygame\u001b[38;5;241m.\u001b[39mdisplay\u001b[38;5;241m.\u001b[39mupdate()\n\u001b[1;32m--> 432\u001b[0m     \u001b[38;5;28mself\u001b[39m\u001b[38;5;241m.\u001b[39mclock\u001b[38;5;241m.\u001b[39mtick(\u001b[38;5;28mself\u001b[39m\u001b[38;5;241m.\u001b[39mmetadata[\u001b[38;5;124m\"\u001b[39m\u001b[38;5;124mrender_fps\u001b[39m\u001b[38;5;124m\"\u001b[39m])\n\u001b[0;32m    433\u001b[0m \u001b[38;5;28;01melif\u001b[39;00m mode \u001b[38;5;241m==\u001b[39m \u001b[38;5;124m\"\u001b[39m\u001b[38;5;124mrgb_array\u001b[39m\u001b[38;5;124m\"\u001b[39m:\n\u001b[0;32m    434\u001b[0m     \u001b[38;5;28;01mreturn\u001b[39;00m np\u001b[38;5;241m.\u001b[39mtranspose(\n\u001b[0;32m    435\u001b[0m         np\u001b[38;5;241m.\u001b[39marray(pygame\u001b[38;5;241m.\u001b[39msurfarray\u001b[38;5;241m.\u001b[39mpixels3d(\u001b[38;5;28mself\u001b[39m\u001b[38;5;241m.\u001b[39mwindow_surface)), axes\u001b[38;5;241m=\u001b[39m(\u001b[38;5;241m1\u001b[39m, \u001b[38;5;241m0\u001b[39m, \u001b[38;5;241m2\u001b[39m)\n\u001b[0;32m    436\u001b[0m     )\n",
      "\u001b[1;31mKeyboardInterrupt\u001b[0m: "
     ]
    }
   ],
   "source": [
    "\n",
    "\n",
    "\n",
    "\n",
    "\n",
    "\n",
    "\n",
    "\n",
    "\n",
    "\n",
    "\n",
    "\n",
    "\n",
    "\n",
    "#5\n",
    "stepcount=0\n",
    "current_State=env.reset()[0]\n",
    "#You have the current state, so you update at the end\n",
    "#Choose values\n",
    "Epsilon=.2#between 0 and 1 non-inclusive\n",
    "Alpha=.35\n",
    "Gamma=.4\n",
    "#determine step\n",
    "#repeat\n",
    "reset=0\n",
    "\n",
    "#env.reset()\n",
    "#env.step(1)\n",
    "#env.step(1)\n",
    "#env.step(2)\n",
    "#env.step(1)\n",
    "#env.step(1)\n",
    "#env.step(1)\n",
    "#env.step(2)\n",
    "for repeat_useless_value in range(10000):\n",
    "    if reset==1:\n",
    "        current_State=env.reset()[0]\n",
    "        reset=0\n",
    "    E=random.uniform(0, 1)\n",
    "    #This is to determine the next step(Step) and the next state\n",
    "    #get list of where it can go\n",
    "#    movements=[]\n",
    "#    if current_State in l:\n",
    "#        movements.append(0)\n",
    "#    if current_State in r:\n",
    "#        movements.append(2)\n",
    "#    if current_State in d:\n",
    "#        movements.append(1)\n",
    "#    if current_State in u:\n",
    "#        movements.append(3)\n",
    "    if E>Epsilon:#You will do the best action\n",
    "        maxq=max(Q_table[\"0\"][current_State],Q_table[\"1\"][current_State],Q_table[\"2\"][current_State],Q_table[\"3\"][current_State],)\n",
    "        #\n",
    "        list=[]\n",
    "        if maxq==Q_table[\"0\"][current_State]:\n",
    "            list.append(\"0\")\n",
    "        if maxq==Q_table[\"1\"][current_State]:\n",
    "            list.append(\"1\")\n",
    "        if maxq==Q_table[\"2\"][current_State]:\n",
    "            list.append(\"2\")\n",
    "        if maxq==Q_table[\"3\"][current_State]:\n",
    "            list.append(\"3\")\n",
    "        #random move based on it\n",
    "        if len(list)>1:\n",
    "            \n",
    "            step=list[random.randint(0,len(list)-1)]\n",
    "            next_State=env.step(int(step))[0]\n",
    "            step=str(step)\n",
    "        else:\n",
    "            if maxq==Q_table[\"0\"][current_State]:\n",
    "                step=\"0\"\n",
    "                next_State=env.step(0)[0]\n",
    "            elif maxq==Q_table[\"1\"][current_State]:\n",
    "                step=\"1\"\n",
    "                next_State=env.step(1)[0]\n",
    "            elif maxq==Q_table[\"2\"][current_State]:\n",
    "                step=\"2\"\n",
    "                next_State=env.step(2)[0]\n",
    "            elif maxq==Q_table[\"3\"][current_State]:\n",
    "                step=\"3\"\n",
    "                next_State=env.step(3)[0]\n",
    "    else:#when it is less than the random value\n",
    "        step=random.randint(0, 3)\n",
    "        next_State=env.step(step)[0]\n",
    "        step=str(step)\n",
    "    #Now you have the next_state that you can now use to make calculations\n",
    "\n",
    "    #This is where you calculate the max of future value\n",
    "    futureQ=max(Q_table[\"0\"][next_State],Q_table[\"1\"][next_State],Q_table[\"2\"][next_State],Q_table[\"3\"][next_State])\n",
    "    #Get your reward value\n",
    "    if next_State in bs:\n",
    "        reward=-.3\n",
    "        reset=1\n",
    "    elif next_State in gs:\n",
    "        reward=1\n",
    "        reset=1\n",
    "#    elif next_State in tempreward:#this is a temporary reward to test it\n",
    "#        reward=.5\n",
    "    else:\n",
    "        reward=0\n",
    "    if current_State==next_State:\n",
    "        #type 1\n",
    "        reward=-.2\n",
    "        Q_table[step][current_State]=Q_table[step][current_State]+Alpha*(reward+Gamma*futureQ-Q_table[step][current_State])\n",
    "        \n",
    "        #type2\n",
    "        #Q_table[step][current_State]=Q_table[step][current_State]\n",
    "        \n",
    "#    elif next_State in bs:.\n",
    "#        Q_table[step][current_State]=Q_table[step][current_State]\n",
    "    elif E>Epsilon:\n",
    "        #Q_table[]\n",
    "        Q_table[step][current_State]=Q_table[step][current_State]\n",
    "    else:\n",
    "        Q_table[step][current_State]=Q_table[step][current_State]+Alpha*(reward+Gamma*futureQ-Q_table[step][current_State])\n",
    "    \n",
    "\n",
    "\n",
    "\n",
    "    #End\n",
    "    current_State=next_State#put in the state, im unsure what ill call it yet\n",
    "    stepcount+=.01\n",
    "    if stepcount-round(stepcount)==0:\n",
    "        print(\"Step\",stepcount,\"is done at\",current_state)\n",
    "    "
   ]
  },
  {
   "cell_type": "code",
   "execution_count": null,
   "id": "b4869648",
   "metadata": {},
   "outputs": [],
   "source": []
  },
  {
   "cell_type": "code",
   "execution_count": null,
   "id": "78b54e19",
   "metadata": {},
   "outputs": [],
   "source": []
  },
  {
   "cell_type": "code",
   "execution_count": null,
   "id": "78b9438b",
   "metadata": {},
   "outputs": [],
   "source": []
  },
  {
   "cell_type": "code",
   "execution_count": null,
   "id": "08de7f6f",
   "metadata": {},
   "outputs": [],
   "source": []
  },
  {
   "cell_type": "code",
   "execution_count": null,
   "id": "d83fa691",
   "metadata": {},
   "outputs": [],
   "source": []
  },
  {
   "cell_type": "code",
   "execution_count": null,
   "id": "f87748f1",
   "metadata": {},
   "outputs": [],
   "source": []
  },
  {
   "cell_type": "code",
   "execution_count": null,
   "id": "59cd852d",
   "metadata": {},
   "outputs": [],
   "source": []
  },
  {
   "cell_type": "code",
   "execution_count": 29,
   "id": "ae9cff64",
   "metadata": {},
   "outputs": [
    {
     "name": "stdout",
     "output_type": "stream",
     "text": [
      "{'info': ['left', 'down', 'right', 'up'], '0': [-0.19590400000000005, 0.0040954825286659766, 0.0004055364956612613, 0.0, -0.18976000000000004, 0, 0, 0, -0.17440000000000005, 0.025599999999999987, 0.06386212500973672, 0.00870406281401255, 0, -0.29999999999999993, 0, 0, -0.16351761743242188, 0.141347663559562, 0, 0.35], '1': [0.010239999999999994, -0.29999999996356413, -0.2999999935942663, -0.2998020076922749, 0.025599999999999987, 0, 0, 0, -0.29999999999999993, 0.15999999999999995, -0.29969539644965365, 0.0, 0, 0.3999999999999999, 0, 0.0, -0.08227143160291758, 0.19999999999999993, 0, -0.06999999999999999], '2': [0.00163816239940571, 0.00016003074476131742, 0.0, -0.1997969309664358, -0.29999999999999993, 0, 0, 0, 0.06399999999999997, 0.02553168809264494, 0.0025254838254857416, -0.145075, 0, -0.29999999999999993, 0, -0.11549999999999999, 0.35358837499999995, 0.9999999999999999, 0, -0.06999999999999999], '3': [-0.19590400000000005, -0.19836732843195914, -0.1999999934300168, -0.1997969309664358, 0.004095999999999997, 0, 0, 0, 0.010239999999999994, -0.29999999999999993, -0.299945626362491, -0.26519128124999997, 0, 0.06399999999999997, 0, 0, -0.29737476504779736, 0.15999999999999995, 0, 0]}\n"
     ]
    }
   ],
   "source": [
    "print(Q_table)"
   ]
  },
  {
   "cell_type": "code",
   "execution_count": null,
   "id": "f6296323",
   "metadata": {},
   "outputs": [],
   "source": []
  },
  {
   "cell_type": "code",
   "execution_count": null,
   "id": "e88ae3f9",
   "metadata": {},
   "outputs": [],
   "source": []
  },
  {
   "cell_type": "code",
   "execution_count": null,
   "id": "2a2e99b2",
   "metadata": {},
   "outputs": [],
   "source": [
    "print(env.reset())"
   ]
  },
  {
   "cell_type": "code",
   "execution_count": null,
   "id": "dbff8092-80a9-4b62-83fb-4fb0d2bd999a",
   "metadata": {},
   "outputs": [],
   "source": [
    "print(env.step(3))"
   ]
  },
  {
   "cell_type": "code",
   "execution_count": null,
   "id": "25ee0c2e",
   "metadata": {},
   "outputs": [],
   "source": [
    "#S,a S:place A:"
   ]
  },
  {
   "cell_type": "code",
   "execution_count": 2,
   "id": "9aa185c2",
   "metadata": {},
   "outputs": [],
   "source": [
    "env.close()"
   ]
  },
  {
   "cell_type": "code",
   "execution_count": null,
   "id": "0843220c",
   "metadata": {},
   "outputs": [],
   "source": []
  },
  {
   "cell_type": "code",
   "execution_count": null,
   "id": "cd479943",
   "metadata": {},
   "outputs": [],
   "source": []
  },
  {
   "cell_type": "code",
   "execution_count": null,
   "id": "61a8b267",
   "metadata": {},
   "outputs": [],
   "source": [
    "def movegetinfo(movement):\n",
    "    if movement==\"Up\":\n",
    "        env.step(1)\n",
    "movegetinfo(\"Up\")"
   ]
  },
  {
   "cell_type": "code",
   "execution_count": null,
   "id": "80828dca",
   "metadata": {},
   "outputs": [],
   "source": []
  },
  {
   "cell_type": "code",
   "execution_count": null,
   "id": "cb0ed0f9",
   "metadata": {},
   "outputs": [],
   "source": []
  },
  {
   "cell_type": "code",
   "execution_count": null,
   "id": "48162d40",
   "metadata": {},
   "outputs": [],
   "source": [
    "env.reset()"
   ]
  },
  {
   "cell_type": "code",
   "execution_count": null,
   "id": "f60b2475",
   "metadata": {},
   "outputs": [],
   "source": [
    "env.step(1)"
   ]
  },
  {
   "cell_type": "code",
   "execution_count": null,
   "id": "bfcc42dc",
   "metadata": {},
   "outputs": [],
   "source": [
    "env.step(2)"
   ]
  },
  {
   "cell_type": "code",
   "execution_count": null,
   "id": "cd02e740",
   "metadata": {},
   "outputs": [],
   "source": [
    "env.close()"
   ]
  },
  {
   "cell_type": "code",
   "execution_count": null,
   "id": "9970c41a",
   "metadata": {},
   "outputs": [],
   "source": [
    "#reset whole thing\n",
    "env.reset()\n",
    "#env.step(0)#Left\n",
    "#env.step(1)#Down\n",
    "#env.step(2)#Right\n",
    "#env.step(3)#Up"
   ]
  },
  {
   "cell_type": "code",
   "execution_count": null,
   "id": "9b18b4d1",
   "metadata": {},
   "outputs": [],
   "source": [
    "def"
   ]
  },
  {
   "cell_type": "code",
   "execution_count": null,
   "id": "a693356c",
   "metadata": {},
   "outputs": [],
   "source": []
  },
  {
   "cell_type": "code",
   "execution_count": null,
   "id": "87c1b6e9-ab4f-486a-bf2d-30a5196bef54",
   "metadata": {},
   "outputs": [],
   "source": [
    "def movelol(inputmove):\n",
    "    if inputmove==\"W\":\n",
    "        env.step(3)\n",
    "    if inputmove==\"A\":\n",
    "        env.step(0)\n",
    "    if inputmove==\"S\":\n",
    "        env.step(1)\n",
    "    if inputmove==\"D\":\n",
    "        env.step(2)\n",
    "    if inputmove==\"R\":\n",
    "        env.reset()\n",
    "    if inputmove==\"C\":\n",
    "        sys.exit()\n",
    "    if inputmove==\"O\":\n",
    "        env = gym.make('FrozenLake-v1', desc=desc, map_name=\"5x5\", is_slippery=False, render_mode=\"human\") \n",
    "        observation, info = env.reset()"
   ]
  },
  {
   "cell_type": "code",
   "execution_count": null,
   "id": "2513dc1a",
   "metadata": {},
   "outputs": [],
   "source": [
    "for taco in range(100):\n",
    "    m=input(\"Move: \")\n",
    "    movelol(m)"
   ]
  },
  {
   "cell_type": "code",
   "execution_count": null,
   "id": "e5e7f4ec-f94c-4167-ac9e-ae5f918ff7b9",
   "metadata": {},
   "outputs": [],
   "source": [
    "inputmove=\"1\"\n",
    "env.reset()\n",
    "for taco in range(1000):\n",
    "    if inputmove == \"1\":\n",
    "        inputmove=str(input(\"Move: \"))\n",
    "        if inputmove==\"W\":\n",
    "            env.step(3)\n",
    "        if inputmove==\"A\":\n",
    "            env.step(0)\n",
    "        if inputmove==\"S\":\n",
    "            env.step(1)\n",
    "        if inputmove==\"D\":env.step(2)\n",
    "        \n",
    "        if inputmove==\"w\":\n",
    "            env.step(3)\n",
    "        if inputmove==\"a\":\n",
    "            env.step(0)\n",
    "        if inputmove==\"s\":\n",
    "            env.step(1)\n",
    "        if inputmove==\"d\":\n",
    "            env.step(2)\n",
    "        \n",
    "        if inputmove==\"R\":\n",
    "            env.reset()\n",
    "        if inputmove==\"C\":\n",
    "            env.exit()\n",
    "        if inputmove==\"O\":\n",
    "            env = gym.make('FrozenLake-v1', desc=desc, map_name=\"5x5\", is_slippery=False, render_mode=\"human\") \n",
    "            observation, info = env.reset()\n",
    "    if inputmove==\"0\":\n",
    "        inputemove=\"0\"\n",
    "    else:\n",
    "        inputmove=\"1\""
   ]
  },
  {
   "cell_type": "code",
   "execution_count": null,
   "id": "1e30328b",
   "metadata": {},
   "outputs": [],
   "source": [
    "env.reset()"
   ]
  },
  {
   "cell_type": "code",
   "execution_count": null,
   "id": "dc76ae5d-80b2-4306-8884-4266f320acaf",
   "metadata": {},
   "outputs": [],
   "source": [
    "action=1\n"
   ]
  },
  {
   "cell_type": "code",
   "execution_count": null,
   "id": "823852f3",
   "metadata": {},
   "outputs": [],
   "source": [
    "#next state is the next state\n",
    "next_state= env.step(action)"
   ]
  },
  {
   "cell_type": "code",
   "execution_count": null,
   "id": "216c471e",
   "metadata": {},
   "outputs": [],
   "source": [
    "env.reset()"
   ]
  },
  {
   "cell_type": "code",
   "execution_count": null,
   "id": "586de4aa",
   "metadata": {},
   "outputs": [],
   "source": [
    "currentstate=env.reset()\n",
    "next_state=env.step(action)"
   ]
  },
  {
   "cell_type": "code",
   "execution_count": null,
   "id": "677e8dec",
   "metadata": {},
   "outputs": [],
   "source": []
  },
  {
   "cell_type": "code",
   "execution_count": null,
   "id": "3b231fa6",
   "metadata": {},
   "outputs": [],
   "source": []
  }
 ],
 "metadata": {
  "kernelspec": {
   "display_name": "Python 3 (ipykernel)",
   "language": "python",
   "name": "python3"
  },
  "language_info": {
   "codemirror_mode": {
    "name": "ipython",
    "version": 3
   },
   "file_extension": ".py",
   "mimetype": "text/x-python",
   "name": "python",
   "nbconvert_exporter": "python",
   "pygments_lexer": "ipython3",
   "version": "3.11.7"
  }
 },
 "nbformat": 4,
 "nbformat_minor": 5
}
