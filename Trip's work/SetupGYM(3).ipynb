{
 "cells": [
  {
   "cell_type": "code",
   "execution_count": 3,
   "id": "820f2545",
   "metadata": {},
   "outputs": [
    {
     "name": "stdout",
     "output_type": "stream",
     "text": [
      "Collecting gymnasium\n",
      "  Downloading gymnasium-0.29.1-py3-none-any.whl.metadata (10 kB)\n",
      "Collecting renderlab\n",
      "  Downloading renderlab-0.1.20230421184216-py3-none-any.whl.metadata (1.9 kB)\n",
      "Requirement already satisfied: numpy>=1.21.0 in c:\\users\\ethan\\anaconda3\\lib\\site-packages (from gymnasium) (1.26.4)\n",
      "Requirement already satisfied: cloudpickle>=1.2.0 in c:\\users\\ethan\\anaconda3\\lib\\site-packages (from gymnasium) (2.2.1)\n",
      "Requirement already satisfied: typing-extensions>=4.3.0 in c:\\users\\ethan\\anaconda3\\lib\\site-packages (from gymnasium) (4.9.0)\n",
      "Collecting farama-notifications>=0.0.1 (from gymnasium)\n",
      "  Downloading Farama_Notifications-0.0.4-py3-none-any.whl.metadata (558 bytes)\n",
      "Collecting moviepy (from renderlab)\n",
      "  Downloading moviepy-1.0.3.tar.gz (388 kB)\n",
      "     ---------------------------------------- 0.0/388.3 kB ? eta -:--:--\n",
      "     ---------------------------------------- 0.0/388.3 kB ? eta -:--:--\n",
      "     - -------------------------------------- 10.2/388.3 kB ? eta -:--:--\n",
      "     --- --------------------------------- 41.0/388.3 kB 326.8 kB/s eta 0:00:02\n",
      "     ---------- ------------------------- 112.6/388.3 kB 726.2 kB/s eta 0:00:01\n",
      "     ------------------------------ ------- 307.2/388.3 kB 1.6 MB/s eta 0:00:01\n",
      "     -------------------------------------- 388.3/388.3 kB 1.7 MB/s eta 0:00:00\n",
      "  Preparing metadata (setup.py): started\n",
      "  Preparing metadata (setup.py): finished with status 'done'\n",
      "Collecting decorator<5.0,>=4.0.2 (from moviepy->renderlab)\n",
      "  Downloading decorator-4.4.2-py2.py3-none-any.whl.metadata (4.2 kB)\n",
      "Requirement already satisfied: imageio<3.0,>=2.5 in c:\\users\\ethan\\anaconda3\\lib\\site-packages (from moviepy->renderlab) (2.33.1)\n",
      "Collecting imageio_ffmpeg>=0.2.0 (from moviepy->renderlab)\n",
      "  Downloading imageio_ffmpeg-0.4.9-py3-none-win_amd64.whl.metadata (1.7 kB)\n",
      "Requirement already satisfied: tqdm<5.0,>=4.11.2 in c:\\users\\ethan\\anaconda3\\lib\\site-packages (from moviepy->renderlab) (4.65.0)\n",
      "Requirement already satisfied: requests<3.0,>=2.8.1 in c:\\users\\ethan\\anaconda3\\lib\\site-packages (from moviepy->renderlab) (2.31.0)\n",
      "Collecting proglog<=1.0.0 (from moviepy->renderlab)\n",
      "  Downloading proglog-0.1.10-py3-none-any.whl.metadata (639 bytes)\n",
      "Requirement already satisfied: pillow>=8.3.2 in c:\\users\\ethan\\anaconda3\\lib\\site-packages (from imageio<3.0,>=2.5->moviepy->renderlab) (10.2.0)\n",
      "Requirement already satisfied: setuptools in c:\\users\\ethan\\anaconda3\\lib\\site-packages (from imageio_ffmpeg>=0.2.0->moviepy->renderlab) (68.2.2)\n",
      "Requirement already satisfied: charset-normalizer<4,>=2 in c:\\users\\ethan\\anaconda3\\lib\\site-packages (from requests<3.0,>=2.8.1->moviepy->renderlab) (2.0.4)\n",
      "Requirement already satisfied: idna<4,>=2.5 in c:\\users\\ethan\\anaconda3\\lib\\site-packages (from requests<3.0,>=2.8.1->moviepy->renderlab) (3.4)\n",
      "Requirement already satisfied: urllib3<3,>=1.21.1 in c:\\users\\ethan\\anaconda3\\lib\\site-packages (from requests<3.0,>=2.8.1->moviepy->renderlab) (2.0.7)\n",
      "Requirement already satisfied: certifi>=2017.4.17 in c:\\users\\ethan\\anaconda3\\lib\\site-packages (from requests<3.0,>=2.8.1->moviepy->renderlab) (2024.2.2)\n",
      "Requirement already satisfied: colorama in c:\\users\\ethan\\anaconda3\\lib\\site-packages (from tqdm<5.0,>=4.11.2->moviepy->renderlab) (0.4.6)\n",
      "Downloading gymnasium-0.29.1-py3-none-any.whl (953 kB)\n",
      "   ---------------------------------------- 0.0/953.9 kB ? eta -:--:--\n",
      "   ------------------ --------------------- 430.1/953.9 kB 8.9 MB/s eta 0:00:01\n",
      "   --------------------------------------  952.3/953.9 kB 10.1 MB/s eta 0:00:01\n",
      "   ---------------------------------------- 953.9/953.9 kB 7.5 MB/s eta 0:00:00\n",
      "Downloading renderlab-0.1.20230421184216-py3-none-any.whl (4.0 kB)\n",
      "Downloading Farama_Notifications-0.0.4-py3-none-any.whl (2.5 kB)\n",
      "Downloading decorator-4.4.2-py2.py3-none-any.whl (9.2 kB)\n",
      "Downloading imageio_ffmpeg-0.4.9-py3-none-win_amd64.whl (22.6 MB)\n",
      "   ---------------------------------------- 0.0/22.6 MB ? eta -:--:--\n",
      "    --------------------------------------- 0.5/22.6 MB 31.4 MB/s eta 0:00:01\n",
      "   --- ------------------------------------ 2.0/22.6 MB 32.7 MB/s eta 0:00:01\n",
      "   ---- ----------------------------------- 2.8/22.6 MB 25.5 MB/s eta 0:00:01\n",
      "   ------- -------------------------------- 4.2/22.6 MB 24.3 MB/s eta 0:00:01\n",
      "   --------- ------------------------------ 5.2/22.6 MB 22.0 MB/s eta 0:00:01\n",
      "   ------------ --------------------------- 6.9/22.6 MB 23.3 MB/s eta 0:00:01\n",
      "   --------------- ------------------------ 8.6/22.6 MB 22.8 MB/s eta 0:00:01\n",
      "   ------------------ --------------------- 10.3/22.6 MB 21.8 MB/s eta 0:00:01\n",
      "   -------------------- ------------------- 11.4/22.6 MB 20.5 MB/s eta 0:00:01\n",
      "   -------------------- ------------------- 11.8/22.6 MB 19.3 MB/s eta 0:00:01\n",
      "   ---------------------- ----------------- 12.5/22.6 MB 17.7 MB/s eta 0:00:01\n",
      "   ----------------------- ---------------- 13.2/22.6 MB 17.7 MB/s eta 0:00:01\n",
      "   -------------------------- ------------- 14.8/22.6 MB 17.3 MB/s eta 0:00:01\n",
      "   ----------------------------- ---------- 16.6/22.6 MB 17.7 MB/s eta 0:00:01\n",
      "   -------------------------------- ------- 18.6/22.6 MB 19.3 MB/s eta 0:00:01\n",
      "   --------------------------------- ------ 18.7/22.6 MB 18.7 MB/s eta 0:00:01\n",
      "   --------------------------------- ------ 18.7/22.6 MB 18.7 MB/s eta 0:00:01\n",
      "   --------------------------------- ------ 18.7/22.6 MB 18.7 MB/s eta 0:00:01\n",
      "   --------------------------------- ------ 18.8/22.6 MB 14.6 MB/s eta 0:00:01\n",
      "   ---------------------------------- ----- 19.7/22.6 MB 14.9 MB/s eta 0:00:01\n",
      "   ----------------------------------- ---- 20.2/22.6 MB 12.8 MB/s eta 0:00:01\n",
      "   ------------------------------------ --- 20.8/22.6 MB 12.4 MB/s eta 0:00:01\n",
      "   ---------------------------------------  22.6/22.6 MB 14.2 MB/s eta 0:00:01\n",
      "   ---------------------------------------  22.6/22.6 MB 14.2 MB/s eta 0:00:01\n",
      "   ---------------------------------------  22.6/22.6 MB 14.2 MB/s eta 0:00:01\n",
      "   ---------------------------------------  22.6/22.6 MB 14.2 MB/s eta 0:00:01\n",
      "   ---------------------------------------  22.6/22.6 MB 14.2 MB/s eta 0:00:01\n",
      "   ---------------------------------------  22.6/22.6 MB 14.2 MB/s eta 0:00:01\n",
      "   ---------------------------------------- 22.6/22.6 MB 9.9 MB/s eta 0:00:00\n",
      "Downloading proglog-0.1.10-py3-none-any.whl (6.1 kB)\n",
      "Building wheels for collected packages: moviepy\n",
      "  Building wheel for moviepy (setup.py): started\n",
      "  Building wheel for moviepy (setup.py): finished with status 'done'\n",
      "  Created wheel for moviepy: filename=moviepy-1.0.3-py3-none-any.whl size=110765 sha256=224b1cfcf0f3a534933ebc417715fe72aa075c3b196d923154d4365bce8285af\n",
      "  Stored in directory: c:\\users\\ethan\\appdata\\local\\pip\\cache\\wheels\\83\\b1\\d9\\119ef7c144b44d591ec0a9a140465133c23ea95d2a161184ba\n",
      "Successfully built moviepy\n",
      "Installing collected packages: farama-notifications, imageio_ffmpeg, gymnasium, decorator, proglog, moviepy, renderlab\n",
      "  Attempting uninstall: decorator\n",
      "    Found existing installation: decorator 5.1.1\n",
      "    Uninstalling decorator-5.1.1:\n",
      "      Successfully uninstalled decorator-5.1.1\n",
      "Successfully installed decorator-4.4.2 farama-notifications-0.0.4 gymnasium-0.29.1 imageio_ffmpeg-0.4.9 moviepy-1.0.3 proglog-0.1.10 renderlab-0.1.20230421184216\n"
     ]
    }
   ],
   "source": [
    "!pip install gymnasium renderlab"
   ]
  },
  {
   "cell_type": "code",
   "execution_count": 4,
   "id": "dde72c16",
   "metadata": {},
   "outputs": [
    {
     "name": "stdout",
     "output_type": "stream",
     "text": [
      "Collecting opencv-python\n",
      "  Downloading opencv_python-4.9.0.80-cp37-abi3-win_amd64.whl.metadata (20 kB)\n",
      "Requirement already satisfied: numpy>=1.21.2 in c:\\users\\ethan\\anaconda3\\lib\\site-packages (from opencv-python) (1.26.4)\n",
      "Downloading opencv_python-4.9.0.80-cp37-abi3-win_amd64.whl (38.6 MB)\n",
      "   ---------------------------------------- 0.0/38.6 MB ? eta -:--:--\n",
      "   ---------------------------------------- 0.0/38.6 MB 320.0 kB/s eta 0:02:01\n",
      "   ---------------------------------------- 0.0/38.6 MB 325.1 kB/s eta 0:01:59\n",
      "   ---------------------------------------- 0.1/38.6 MB 653.6 kB/s eta 0:00:59\n",
      "   ---------------------------------------- 0.3/38.6 MB 1.4 MB/s eta 0:00:29\n",
      "   ---------------------------------------- 0.5/38.6 MB 2.0 MB/s eta 0:00:20\n",
      "    --------------------------------------- 0.8/38.6 MB 2.8 MB/s eta 0:00:14\n",
      "   - -------------------------------------- 1.2/38.6 MB 3.5 MB/s eta 0:00:11\n",
      "   - -------------------------------------- 1.6/38.6 MB 4.1 MB/s eta 0:00:09\n",
      "   -- ------------------------------------- 2.0/38.6 MB 4.4 MB/s eta 0:00:09\n",
      "   -- ------------------------------------- 2.4/38.6 MB 5.0 MB/s eta 0:00:08\n",
      "   --- ------------------------------------ 3.0/38.6 MB 5.4 MB/s eta 0:00:07\n",
      "   --- ------------------------------------ 3.5/38.6 MB 5.8 MB/s eta 0:00:07\n",
      "   ---- ----------------------------------- 4.0/38.6 MB 6.2 MB/s eta 0:00:06\n",
      "   ---- ----------------------------------- 4.6/38.6 MB 6.7 MB/s eta 0:00:06\n",
      "   ----- ---------------------------------- 5.2/38.6 MB 7.0 MB/s eta 0:00:05\n",
      "   ----- ---------------------------------- 5.7/38.6 MB 7.3 MB/s eta 0:00:05\n",
      "   ------ --------------------------------- 6.4/38.6 MB 7.8 MB/s eta 0:00:05\n",
      "   ------- -------------------------------- 7.0/38.6 MB 7.9 MB/s eta 0:00:04\n",
      "   ------- -------------------------------- 7.5/38.6 MB 8.1 MB/s eta 0:00:04\n",
      "   -------- ------------------------------- 8.0/38.6 MB 8.2 MB/s eta 0:00:04\n",
      "   -------- ------------------------------- 8.3/38.6 MB 8.1 MB/s eta 0:00:04\n",
      "   --------- ------------------------------ 8.8/38.6 MB 8.3 MB/s eta 0:00:04\n",
      "   --------- ------------------------------ 9.4/38.6 MB 8.4 MB/s eta 0:00:04\n",
      "   ---------- ----------------------------- 9.9/38.6 MB 8.5 MB/s eta 0:00:04\n",
      "   ---------- ----------------------------- 10.3/38.6 MB 9.6 MB/s eta 0:00:03\n",
      "   ----------- ---------------------------- 10.9/38.6 MB 10.4 MB/s eta 0:00:03\n",
      "   ------------ --------------------------- 11.6/38.6 MB 11.1 MB/s eta 0:00:03\n",
      "   ------------ --------------------------- 12.0/38.6 MB 10.9 MB/s eta 0:00:03\n",
      "   ------------- -------------------------- 12.7/38.6 MB 11.7 MB/s eta 0:00:03\n",
      "   ------------- -------------------------- 13.3/38.6 MB 11.5 MB/s eta 0:00:03\n",
      "   -------------- ------------------------- 14.2/38.6 MB 12.1 MB/s eta 0:00:03\n",
      "   --------------- ------------------------ 15.3/38.6 MB 12.6 MB/s eta 0:00:02\n",
      "   ----------------- ---------------------- 16.5/38.6 MB 13.1 MB/s eta 0:00:02\n",
      "   ------------------ --------------------- 17.4/38.6 MB 13.6 MB/s eta 0:00:02\n",
      "   ------------------- -------------------- 18.4/38.6 MB 14.9 MB/s eta 0:00:02\n",
      "   ------------------- -------------------- 19.3/38.6 MB 15.6 MB/s eta 0:00:02\n",
      "   -------------------- ------------------- 19.8/38.6 MB 15.6 MB/s eta 0:00:02\n",
      "   --------------------- ------------------ 21.0/38.6 MB 16.8 MB/s eta 0:00:02\n",
      "   ---------------------- ----------------- 22.2/38.6 MB 19.3 MB/s eta 0:00:01\n",
      "   ----------------------- ---------------- 22.9/38.6 MB 19.3 MB/s eta 0:00:01\n",
      "   ------------------------- -------------- 24.1/38.6 MB 21.1 MB/s eta 0:00:01\n",
      "   ------------------------- -------------- 25.0/38.6 MB 20.5 MB/s eta 0:00:01\n",
      "   --------------------------- ------------ 26.1/38.6 MB 21.1 MB/s eta 0:00:01\n",
      "   --------------------------- ------------ 26.1/38.6 MB 21.1 MB/s eta 0:00:01\n",
      "   --------------------------- ------------ 26.6/38.6 MB 18.7 MB/s eta 0:00:01\n",
      "   ----------------------------- ---------- 28.4/38.6 MB 19.2 MB/s eta 0:00:01\n",
      "   ------------------------------ --------- 29.9/38.6 MB 21.1 MB/s eta 0:00:01\n",
      "   -------------------------------- ------- 31.2/38.6 MB 21.9 MB/s eta 0:00:01\n",
      "   --------------------------------- ------ 32.0/38.6 MB 21.1 MB/s eta 0:00:01\n",
      "   ---------------------------------- ----- 33.1/38.6 MB 21.1 MB/s eta 0:00:01\n",
      "   ----------------------------------- ---- 34.5/38.6 MB 21.8 MB/s eta 0:00:01\n",
      "   ------------------------------------ --- 35.3/38.6 MB 21.8 MB/s eta 0:00:01\n",
      "   -------------------------------------- - 36.7/38.6 MB 24.2 MB/s eta 0:00:01\n",
      "   ---------------------------------------  38.5/38.6 MB 24.2 MB/s eta 0:00:01\n",
      "   ---------------------------------------  38.5/38.6 MB 24.2 MB/s eta 0:00:01\n",
      "   ---------------------------------------  38.5/38.6 MB 24.2 MB/s eta 0:00:01\n",
      "   ---------------------------------------  38.5/38.6 MB 24.2 MB/s eta 0:00:01\n",
      "   ---------------------------------------  38.5/38.6 MB 24.2 MB/s eta 0:00:01\n",
      "   ---------------------------------------  38.6/38.6 MB 16.0 MB/s eta 0:00:01\n",
      "   ---------------------------------------  38.6/38.6 MB 16.0 MB/s eta 0:00:01\n",
      "   ---------------------------------------  38.6/38.6 MB 16.0 MB/s eta 0:00:01\n",
      "   ---------------------------------------  38.6/38.6 MB 16.0 MB/s eta 0:00:01\n",
      "   ---------------------------------------- 38.6/38.6 MB 11.7 MB/s eta 0:00:00\n",
      "Installing collected packages: opencv-python\n",
      "Successfully installed opencv-python-4.9.0.80\n"
     ]
    }
   ],
   "source": [
    "!pip install opencv-python\n"
   ]
  },
  {
   "cell_type": "code",
   "execution_count": 5,
   "id": "b227246a",
   "metadata": {},
   "outputs": [
    {
     "name": "stdout",
     "output_type": "stream",
     "text": [
      "Collecting pygame\n",
      "  Downloading pygame-2.5.2-cp311-cp311-win_amd64.whl.metadata (13 kB)\n",
      "Downloading pygame-2.5.2-cp311-cp311-win_amd64.whl (10.8 MB)\n",
      "   ---------------------------------------- 0.0/10.8 MB ? eta -:--:--\n",
      "    --------------------------------------- 0.2/10.8 MB 3.1 MB/s eta 0:00:04\n",
      "   - -------------------------------------- 0.3/10.8 MB 3.4 MB/s eta 0:00:04\n",
      "   -- ------------------------------------- 0.8/10.8 MB 4.2 MB/s eta 0:00:03\n",
      "   ------ --------------------------------- 1.7/10.8 MB 6.7 MB/s eta 0:00:02\n",
      "   ---------- ----------------------------- 2.9/10.8 MB 9.7 MB/s eta 0:00:01\n",
      "   --------------- ------------------------ 4.2/10.8 MB 11.1 MB/s eta 0:00:01\n",
      "   -------------------- ------------------- 5.6/10.8 MB 13.2 MB/s eta 0:00:01\n",
      "   ------------------------- -------------- 7.0/10.8 MB 14.8 MB/s eta 0:00:01\n",
      "   ----------------------------- ---------- 7.8/10.8 MB 15.1 MB/s eta 0:00:01\n",
      "   ----------------------------- ---------- 7.8/10.8 MB 15.1 MB/s eta 0:00:01\n",
      "   ------------------------------- -------- 8.4/10.8 MB 13.4 MB/s eta 0:00:01\n",
      "   ------------------------------------ --- 9.7/10.8 MB 14.5 MB/s eta 0:00:01\n",
      "   ------------------------------------- -- 10.2/10.8 MB 13.8 MB/s eta 0:00:01\n",
      "   ---------------------------------------  10.8/10.8 MB 16.8 MB/s eta 0:00:01\n",
      "   ---------------------------------------- 10.8/10.8 MB 14.9 MB/s eta 0:00:00\n",
      "Installing collected packages: pygame\n",
      "Successfully installed pygame-2.5.2\n"
     ]
    }
   ],
   "source": [
    "!pip install pygame"
   ]
  },
  {
   "cell_type": "code",
   "execution_count": null,
   "id": "28f6855f-51ed-4f2f-97bf-622bf1035b41",
   "metadata": {},
   "outputs": [],
   "source": []
  },
  {
   "cell_type": "code",
   "execution_count": 6,
   "id": "b653b3c5",
   "metadata": {},
   "outputs": [
    {
     "name": "stdout",
     "output_type": "stream",
     "text": [
      "SFFFFFFFFHHHHHHHFFFFFFHFHFHFFFFFFFHHHFGF\n"
     ]
    }
   ],
   "source": [
    "#1\n",
    "import gymnasium as gym\n",
    "import random\n",
    "\n",
    "#2\n",
    "desc=[\"SFFFFFFF\", \"FHHHHHHH\", \"FFFFFFHF\", \"HFHFFFFF\", \"FFHHHFGF\"]\n",
    "\n",
    "env = gym.make('FrozenLake-v1', desc=desc, map_name=\"4x5\", is_slippery=False, render_mode=\"human\") \n",
    "observation, info = env.reset()\n",
    "\n",
    "#2.5\n",
    "Seed=\"\"\n",
    "for taco in range(len(desc)):\n",
    "    Seed=Seed+desc[taco]\n",
    "print(Seed)\n"
   ]
  },
  {
   "cell_type": "code",
   "execution_count": 7,
   "id": "ff4e74f1",
   "metadata": {},
   "outputs": [],
   "source": [
    "\n",
    "\n",
    "#run info\n",
    "stats={\"run\":[],\"end\":[],\"steps\":[]}\n",
    "\n",
    "\n",
    "\n",
    "\n",
    "run=0\n",
    "#for burrito in range()\n",
    "#3, Initialize function\n",
    "def initialize_Q_table(spaces):\n",
    "    spaces=8*5 #number of spaces, dont change!\n",
    "    Q_table={\"info\":[\"left\",\"down\",\"right\",\"up\"],\"0\":[],\"1\":[],\"2\":[],\"3\":[]}\n",
    "    for taco in range(spaces):\n",
    "        Q_table[\"0\"].append(0)#random.uniform(0, 1)\n",
    "        Q_table[\"1\"].append(0)\n",
    "        Q_table[\"2\"].append(0)\n",
    "        Q_table[\"3\"].append(0)\n",
    "    return Q_table\n",
    "\n",
    "\n",
    "\n",
    "\n",
    "\n",
    "\n",
    "\n",
    "\n",
    "#use the function to create the table\n",
    "Q_table=initialize_Q_table(20)\n",
    "\n",
    "\n",
    "\n",
    "\n",
    "\n",
    "#Q_table={\"info\":[\"left\",\"down\",\"right\",\"up\"],\n",
    "             #[0,1,2,3,4,5,6,7,8,9,0,1,2,3,4,5,6,7,8,9,0,1,2,3,4,5,6,7,8,9,0,1,2,3,4,5,6,7,8,9]\n",
    "         #\"0\":[0,0,0,0,0,0,0,0,0,0,0,0,0,0,0,0,0,0,0,0,0,0,0,0,0,0,0,0,0,0,0,0,0,0,0,0,0,0,0,0],#left\n",
    "         #\"1\":[1,0,0,0,0,0,0,0,1,0,0,0,0,0,0,0,0,0,0,0,0,1,0,0,0,0,0,0,0,1,0,0,0,0,0,0,0,0,0,0],#down\n",
    "         #\"2\":[0,0,0,0,0,0,0,0,0,0,0,0,0,0,0,0,1,1,1,1,1,0,0,0,0,0,0,0,0,0,0,0,0,0,0,0,0,1,0,0],#right\n",
    "         #\"3\":[0,0,0,0,0,0,0,0,0,0,0,0,0,0,0,0,0,0,0,0,0,0,0,0,0,0,0,0,0,0,0,0,0,0,0,0,0,0,0,0]}#up\n",
    "\n",
    "\n",
    "\n",
    "\n",
    "\n",
    "\n",
    "#Make Q function to get Q\n",
    "#def Q(Space,Move):\n",
    "#    Q_table[str(Move)][Space]\n",
    "#4, list of bad squares\n",
    "bs=[5,6,7,12,14]\n",
    "gs=[18]\n",
    "tempreward=[13]#[4,8,9,13,17]\n",
    "#\n",
    "#l=[0,4,8,12,16]\n",
    "#r=[3,7,11,15,19]\n",
    "#u=[0,1,2,3]\n",
    "#d=[16,17,18,19]\n",
    "\n",
    "#list of rewards\n",
    "info={\"Steps\":[],\"End\":[]}"
   ]
  },
  {
   "cell_type": "code",
   "execution_count": 8,
   "id": "34153804",
   "metadata": {},
   "outputs": [],
   "source": [
    "\n",
    "\n",
    "\n",
    "\n",
    "\n",
    "\n",
    "\n",
    "\n",
    "\n",
    "\n",
    "\n",
    "\n",
    "\n",
    "stepcount=0\n",
    "\n",
    "#5\n",
    "stepcount=0\n",
    "current_State=env.reset()[0]\n",
    "#You have the current state, so you update at the end\n",
    "#Choose values\n",
    "Epsilon=.2#between 0 and 1 non-inclusive\n",
    "Alpha=.35\n",
    "Gamma=.4\n",
    "#determine step\n",
    "#repeat\n",
    "reset=0\n",
    "\n",
    "#env.reset()\n",
    "#env.step(1)\n",
    "#env.step(1)\n",
    "#env.step(2)\n",
    "#env.step(1)\n",
    "#env.step(1)\n",
    "#env.step(1)\n",
    "#env.step(2)\n",
    "for repeat_useless_value in range(10000):\n",
    "    if reset==1:\n",
    "        current_State=env.reset()[0]\n",
    "        reset=0\n",
    "        stepcount=0\n",
    "    E=random.uniform(0, 1)\n",
    "    #This is to determine the next step(Step) and the next state\n",
    "    #get list of where it can go\n",
    "#    movements=[]\n",
    "#    if current_State in l:\n",
    "#        movements.append(0)\n",
    "#    if current_State in r:\n",
    "#        movements.append(2)\n",
    "#    if current_State in d:\n",
    "#        movements.append(1)\n",
    "#    if current_State in u:\n",
    "#        movements.append(3)\n",
    "    if E>Epsilon:#You will do the best action\n",
    "        maxq=max(Q_table[\"0\"][current_State],Q_table[\"1\"][current_State],Q_table[\"2\"][current_State],Q_table[\"3\"][current_State],)\n",
    "        #\n",
    "        list=[]\n",
    "        if maxq==Q_table[\"0\"][current_State]:\n",
    "            list.append(\"0\")\n",
    "        if maxq==Q_table[\"1\"][current_State]:\n",
    "            list.append(\"1\")\n",
    "        if maxq==Q_table[\"2\"][current_State]:\n",
    "            list.append(\"2\")\n",
    "        if maxq==Q_table[\"3\"][current_State]:\n",
    "            list.append(\"3\")\n",
    "        #random move based on it\n",
    "        if len(list)>1:\n",
    "            \n",
    "            step=list[random.randint(0,len(list)-1)]\n",
    "            next_State=env.step(int(step))[0]\n",
    "            step=str(step)\n",
    "        else:\n",
    "            if maxq==Q_table[\"0\"][current_State]:\n",
    "                step=\"0\"\n",
    "                next_State=env.step(0)[0]\n",
    "            elif maxq==Q_table[\"1\"][current_State]:\n",
    "                step=\"1\"\n",
    "                next_State=env.step(1)[0]\n",
    "            elif maxq==Q_table[\"2\"][current_State]:\n",
    "                step=\"2\"\n",
    "                next_State=env.step(2)[0]\n",
    "            elif maxq==Q_table[\"3\"][current_State]:\n",
    "                step=\"3\"\n",
    "                next_State=env.step(3)[0]\n",
    "    else:#when it is less than the random value\n",
    "        step=random.randint(0, 3)\n",
    "        next_State=env.step(step)[0]\n",
    "        step=str(step)\n",
    "    #Now you have the next_state that you can now use to make calculations\n",
    "\n",
    "    #This is where you calculate the max of future value\n",
    "    futureQ=max(Q_table[\"0\"][next_State],Q_table[\"1\"][next_State],Q_table[\"2\"][next_State],Q_table[\"3\"][next_State])\n",
    "    #Get your reward value\n",
    "    if Seed[next_State]==\"H\":#if its a lake square\n",
    "        reward=-.3\n",
    "        reset=1\n",
    "        \n",
    "        stepcount+=1\n",
    "        info[\"Steps\"].append(stepcount)\n",
    "        info[\"End\"].append(\"-1\")\n",
    "    elif Seed[next_State]==\"G\":\n",
    "        reward=1\n",
    "        reset=1\n",
    "        \n",
    "        stepcount+=1\n",
    "        info[\"Steps\"].append(stepcount)\n",
    "        info[\"End\"].append(\"1\")\n",
    "#    elif next_State in tempreward:#this is a temporary reward to test it\n",
    "#        reward=.5\n",
    "    else:\n",
    "        reward=0\n",
    "        \n",
    "        stepcount+=1\n",
    "    if current_State==next_State:\n",
    "        #type 1\n",
    "        reward=-.2\n",
    "        Q_table[step][current_State]=Q_table[step][current_State]+Alpha*(reward+Gamma*futureQ-Q_table[step][current_State])\n",
    "        \n",
    "        #type2\n",
    "        #Q_table[step][current_State]=Q_table[step][current_State]\n",
    "        \n",
    "#    elif next_State in bs:\n",
    "#        Q_table[step][current_State]=Q_table[step][current_State]\n",
    "    elif E>Epsilon:\n",
    "        #Q_table[]\n",
    "        Q_table[step][current_State]=Q_table[step][current_State]\n",
    "    else:\n",
    "        Q_table[step][current_State]=Q_table[step][current_State]+Alpha*(reward+Gamma*futureQ-Q_table[step][current_State])\n",
    "    \n",
    "\n",
    "\n",
    "\n",
    "    #End\n",
    "    current_State=next_State#put in the state, im unsure what ill call it yet\n",
    "    "
   ]
  },
  {
   "cell_type": "code",
   "execution_count": 9,
   "id": "b4869648",
   "metadata": {},
   "outputs": [
    {
     "name": "stdout",
     "output_type": "stream",
     "text": [
      "{'info': ['left', 'down', 'right', 'up'], '0': [-0.19999999999999998, 0.0, 0.0, 0.0, 0.0, 0.0, 0.0, 0.0, -0.1999999999988092, 0, 0, 0, 0, 0, 0, 0, -0.1999999128867691, 0.0, 0.0, 0.0, 0.0, 0.0, 0, 0, 0, -0.2982935972810683, 0, -0.2176125, 0.0, 0.0, 0, 0, -0.145075, 0.0, 0, 0, 0, -0.105, 0, 0], '1': [0.0, -0.2999999999999759, -0.29999999994394483, -0.2999999935942663, -0.29999733448037685, -0.29999826741224495, -0.29991634824998614, -0.29596117699661134, 0.0, 0, 0, 0, 0, 0, 0, 0, -0.2999992679816735, 0.0, -0.2998020076922749, 0.0, 0.0, 0.0, 0, 0, 0, 0.0, 0, -0.105, -0.29044065561328125, 0.0, 0, 0, -0.1767941875, -0.16429875, 0, 0, 0, 0, 0, 0], '2': [0.0, 0.0, 0.0, 0.0, 0.0, 0.0, 0.0, -0.19730745133107422, -0.2999999999999759, 0, 0, 0, 0, 0, 0, 0, 0.0, 0.0, 0.0, 0.0, 0.0, 0, 0, -0.11549999999999999, 0, -0.29953137915331335, 0, 0.0, 0.0, 0.0, 0, 0, 0.0, -0.29596117699661134, 0, 0, 0, 0, 0, 0], '3': [-0.19999999999999998, -0.1999999999999992, -0.19999999967792448, -0.1999999999757094, -0.19999951198778235, -0.19999822298691794, -0.19926055882179627, -0.184916221875, 0.0, 0, 0, 0, 0, 0, 0, 0, 0.0, -0.2999958992005798, -0.2937864261486328, -0.2937864261486328, -0.27737433281249996, -0.105, 0, 0, 0, 0.0, 0, 0.0, 0.0, 0.0, 0, 0, -0.105, 0.0, 0, 0, 0, 0.0, 0, 0]}\n"
     ]
    }
   ],
   "source": [
    "print(Q_table)"
   ]
  },
  {
   "cell_type": "code",
   "execution_count": null,
   "id": "78b54e19",
   "metadata": {},
   "outputs": [],
   "source": []
  },
  {
   "cell_type": "code",
   "execution_count": null,
   "id": "78b9438b",
   "metadata": {},
   "outputs": [],
   "source": []
  },
  {
   "cell_type": "code",
   "execution_count": null,
   "id": "08de7f6f",
   "metadata": {},
   "outputs": [],
   "source": []
  },
  {
   "cell_type": "code",
   "execution_count": null,
   "id": "d83fa691",
   "metadata": {},
   "outputs": [],
   "source": []
  },
  {
   "cell_type": "code",
   "execution_count": null,
   "id": "f87748f1",
   "metadata": {},
   "outputs": [],
   "source": []
  },
  {
   "cell_type": "code",
   "execution_count": null,
   "id": "59cd852d",
   "metadata": {},
   "outputs": [],
   "source": []
  },
  {
   "cell_type": "code",
   "execution_count": null,
   "id": "ae9cff64",
   "metadata": {},
   "outputs": [],
   "source": [
    "print(Q_table)"
   ]
  },
  {
   "cell_type": "code",
   "execution_count": null,
   "id": "f6296323",
   "metadata": {},
   "outputs": [],
   "source": []
  },
  {
   "cell_type": "code",
   "execution_count": null,
   "id": "e88ae3f9",
   "metadata": {},
   "outputs": [],
   "source": []
  },
  {
   "cell_type": "code",
   "execution_count": null,
   "id": "2a2e99b2",
   "metadata": {},
   "outputs": [],
   "source": [
    "print(env.reset())"
   ]
  },
  {
   "cell_type": "code",
   "execution_count": null,
   "id": "dbff8092-80a9-4b62-83fb-4fb0d2bd999a",
   "metadata": {},
   "outputs": [],
   "source": [
    "print(env.step(3))"
   ]
  },
  {
   "cell_type": "code",
   "execution_count": null,
   "id": "25ee0c2e",
   "metadata": {},
   "outputs": [],
   "source": [
    "#S,a S:place A:"
   ]
  },
  {
   "cell_type": "code",
   "execution_count": 18,
   "id": "9aa185c2",
   "metadata": {},
   "outputs": [],
   "source": [
    "env.close()"
   ]
  },
  {
   "cell_type": "code",
   "execution_count": null,
   "id": "0843220c",
   "metadata": {},
   "outputs": [],
   "source": []
  },
  {
   "cell_type": "code",
   "execution_count": null,
   "id": "cd479943",
   "metadata": {},
   "outputs": [],
   "source": []
  },
  {
   "cell_type": "code",
   "execution_count": null,
   "id": "61a8b267",
   "metadata": {},
   "outputs": [],
   "source": [
    "def movegetinfo(movement):\n",
    "    if movement==\"Up\":\n",
    "        env.step(1)\n",
    "movegetinfo(\"Up\")"
   ]
  },
  {
   "cell_type": "code",
   "execution_count": null,
   "id": "80828dca",
   "metadata": {},
   "outputs": [],
   "source": []
  },
  {
   "cell_type": "code",
   "execution_count": null,
   "id": "cb0ed0f9",
   "metadata": {},
   "outputs": [],
   "source": []
  },
  {
   "cell_type": "code",
   "execution_count": null,
   "id": "48162d40",
   "metadata": {},
   "outputs": [],
   "source": [
    "env.reset()"
   ]
  },
  {
   "cell_type": "code",
   "execution_count": null,
   "id": "f60b2475",
   "metadata": {},
   "outputs": [],
   "source": [
    "env.step(1)"
   ]
  },
  {
   "cell_type": "code",
   "execution_count": null,
   "id": "bfcc42dc",
   "metadata": {},
   "outputs": [],
   "source": [
    "env.step(2)"
   ]
  },
  {
   "cell_type": "code",
   "execution_count": null,
   "id": "cd02e740",
   "metadata": {},
   "outputs": [],
   "source": [
    "env.close()"
   ]
  },
  {
   "cell_type": "code",
   "execution_count": null,
   "id": "9970c41a",
   "metadata": {},
   "outputs": [],
   "source": [
    "#reset whole thing\n",
    "env.reset()\n",
    "#env.step(0)#Left\n",
    "#env.step(1)#Down\n",
    "#env.step(2)#Right\n",
    "#env.step(3)#Up"
   ]
  },
  {
   "cell_type": "code",
   "execution_count": null,
   "id": "9b18b4d1",
   "metadata": {},
   "outputs": [],
   "source": [
    "def"
   ]
  },
  {
   "cell_type": "code",
   "execution_count": null,
   "id": "a693356c",
   "metadata": {},
   "outputs": [],
   "source": []
  },
  {
   "cell_type": "code",
   "execution_count": null,
   "id": "87c1b6e9-ab4f-486a-bf2d-30a5196bef54",
   "metadata": {},
   "outputs": [],
   "source": [
    "def movelol(inputmove):\n",
    "    if inputmove==\"W\":\n",
    "        env.step(3)\n",
    "    if inputmove==\"A\":\n",
    "        env.step(0)\n",
    "    if inputmove==\"S\":\n",
    "        env.step(1)\n",
    "    if inputmove==\"D\":\n",
    "        env.step(2)\n",
    "    if inputmove==\"R\":\n",
    "        env.reset()\n",
    "    if inputmove==\"C\":\n",
    "        sys.exit()\n",
    "    if inputmove==\"O\":\n",
    "        env = gym.make('FrozenLake-v1', desc=desc, map_name=\"5x5\", is_slippery=False, render_mode=\"human\") \n",
    "        observation, info = env.reset()"
   ]
  },
  {
   "cell_type": "code",
   "execution_count": null,
   "id": "2513dc1a",
   "metadata": {},
   "outputs": [],
   "source": [
    "for taco in range(100):\n",
    "    m=input(\"Move: \")\n",
    "    movelol(m)"
   ]
  },
  {
   "cell_type": "code",
   "execution_count": null,
   "id": "e5e7f4ec-f94c-4167-ac9e-ae5f918ff7b9",
   "metadata": {},
   "outputs": [],
   "source": [
    "inputmove=\"1\"\n",
    "env.reset()\n",
    "for taco in range(1000):\n",
    "    if inputmove == \"1\":\n",
    "        inputmove=str(input(\"Move: \"))\n",
    "        if inputmove==\"W\":\n",
    "            env.step(3)\n",
    "        if inputmove==\"A\":\n",
    "            env.step(0)\n",
    "        if inputmove==\"S\":\n",
    "            env.step(1)\n",
    "        if inputmove==\"D\":env.step(2)\n",
    "        \n",
    "        if inputmove==\"w\":\n",
    "            env.step(3)\n",
    "        if inputmove==\"a\":\n",
    "            env.step(0)\n",
    "        if inputmove==\"s\":\n",
    "            env.step(1)\n",
    "        if inputmove==\"d\":\n",
    "            env.step(2)\n",
    "        \n",
    "        if inputmove==\"R\":\n",
    "            env.reset()\n",
    "        if inputmove==\"C\":\n",
    "            env.exit()\n",
    "        if inputmove==\"O\":\n",
    "            env = gym.make('FrozenLake-v1', desc=desc, map_name=\"5x5\", is_slippery=False, render_mode=\"human\") \n",
    "            observation, info = env.reset()\n",
    "    if inputmove==\"0\":\n",
    "        inputemove=\"0\"\n",
    "    else:\n",
    "        inputmove=\"1\""
   ]
  },
  {
   "cell_type": "code",
   "execution_count": null,
   "id": "1e30328b",
   "metadata": {},
   "outputs": [],
   "source": [
    "env.reset()"
   ]
  },
  {
   "cell_type": "code",
   "execution_count": null,
   "id": "dc76ae5d-80b2-4306-8884-4266f320acaf",
   "metadata": {},
   "outputs": [],
   "source": [
    "action=1\n"
   ]
  },
  {
   "cell_type": "code",
   "execution_count": null,
   "id": "823852f3",
   "metadata": {},
   "outputs": [],
   "source": [
    "#next state is the next state\n",
    "next_state= env.step(action)"
   ]
  },
  {
   "cell_type": "code",
   "execution_count": null,
   "id": "216c471e",
   "metadata": {},
   "outputs": [],
   "source": [
    "env.reset()"
   ]
  },
  {
   "cell_type": "code",
   "execution_count": null,
   "id": "586de4aa",
   "metadata": {},
   "outputs": [],
   "source": [
    "currentstate=env.reset()\n",
    "next_state=env.step(action)"
   ]
  },
  {
   "cell_type": "code",
   "execution_count": null,
   "id": "677e8dec",
   "metadata": {},
   "outputs": [],
   "source": []
  },
  {
   "cell_type": "code",
   "execution_count": null,
   "id": "3b231fa6",
   "metadata": {},
   "outputs": [],
   "source": []
  }
 ],
 "metadata": {
  "kernelspec": {
   "display_name": "Python 3 (ipykernel)",
   "language": "python",
   "name": "python3"
  },
  "language_info": {
   "codemirror_mode": {
    "name": "ipython",
    "version": 3
   },
   "file_extension": ".py",
   "mimetype": "text/x-python",
   "name": "python",
   "nbconvert_exporter": "python",
   "pygments_lexer": "ipython3",
   "version": "3.11.7"
  }
 },
 "nbformat": 4,
 "nbformat_minor": 5
}
